{
 "cells": [
  {
   "cell_type": "code",
   "execution_count": 5216,
   "metadata": {},
   "outputs": [],
   "source": [
    "AB_lengths = []"
   ]
  },
  {
   "cell_type": "code",
   "execution_count": 5217,
   "metadata": {},
   "outputs": [],
   "source": [
    "import numpy as np"
   ]
  },
  {
   "cell_type": "code",
   "execution_count": 5218,
   "metadata": {},
   "outputs": [],
   "source": [
    "import math"
   ]
  },
  {
   "cell_type": "code",
   "execution_count": 5219,
   "metadata": {},
   "outputs": [],
   "source": [
    "def normalize(data): \n",
    "    min_data = min(data) \n",
    "    max_data = max(data)\n",
    "    data = np.array([( (d-min_data) / (max_data-min_data) ) for d in data])\n",
    "    return data"
   ]
  },
  {
   "cell_type": "code",
   "execution_count": 5220,
   "metadata": {},
   "outputs": [],
   "source": [
    "def normalize_2D(matrix): \n",
    "    min_matrix = matrix.min() \n",
    "    max_matrix = matrix.max()\n",
    "    matrix = (matrix-min_matrix) / (max_matrix-min_matrix)\n",
    "    return matrix\n",
    "    #matrix = np.array([[( (y-min_data) / (max_data-min_data) ) for y in x] for x in matrix])"
   ]
  },
  {
   "cell_type": "code",
   "execution_count": 5221,
   "metadata": {},
   "outputs": [],
   "source": [
    "p_select, n_clones, learn_rate, OMEGA, M_threshold = 0.9, 100, 1, 0.9, 0.5"
   ]
  },
  {
   "cell_type": "code",
   "execution_count": 5222,
   "metadata": {},
   "outputs": [],
   "source": [
    "AG, AB = np.random.rand(50,2)*10, np.random.rand(50,2)*10"
   ]
  },
  {
   "cell_type": "code",
   "execution_count": 5223,
   "metadata": {},
   "outputs": [
    {
     "data": {
      "image/png": "[encoded data removed]",
      "text/plain": [
       "<Figure size 432x288 with 1 Axes>"
      ]
     },
     "metadata": {
      "needs_background": "light"
     },
     "output_type": "display_data"
    },
    {
     "data": {
      "image/png": "[encoded data removed]",
      "text/plain": [
       "<Figure size 432x288 with 1 Axes>"
      ]
     },
     "metadata": {
      "needs_background": "light"
     },
     "output_type": "display_data"
    }
   ],
   "source": [
    "import matplotlib.pyplot as plt\n",
    "from mpl_toolkits.mplot3d import Axes3D\n",
    "\n",
    "plt.scatter(AB[:,0], AB[:,1])\n",
    "plt.savefig(\"AB.png\")\n",
    "plt.show()\n",
    "\n",
    "plt.close()\n",
    "\n",
    "plt.scatter(AG[:,0], AG[:,1])\n",
    "plt.savefig(\"AG.png\")\n",
    "plt.show()\n",
    "\n",
    "plt.close()"
   ]
  },
  {
   "cell_type": "code",
   "execution_count": 5145,
   "metadata": {},
   "outputs": [
    {
     "data": {
      "text/plain": [
       "array([[6.88593663, 4.06983645],\n",
       "       [7.04469108, 0.3162493 ],\n",
       "       [8.11296597, 0.0220952 ],\n",
       "       [3.88071818, 7.34968034],\n",
       "       [0.11702276, 7.35942685],\n",
       "       [4.96624448, 8.18713945],\n",
       "       [2.45133532, 1.58110575],\n",
       "       [1.04309676, 2.9281059 ],\n",
       "       [5.06480986, 0.79566566],\n",
       "       [9.70772668, 2.01897716],\n",
       "       [4.41725034, 2.16705549],\n",
       "       [0.51528693, 0.08163662],\n",
       "       [8.00901561, 5.99713113],\n",
       "       [0.98019252, 1.4499414 ],\n",
       "       [1.39409117, 0.67393701],\n",
       "       [6.71654476, 3.9735315 ],\n",
       "       [5.71636189, 2.53508619],\n",
       "       [9.23004578, 7.51604126],\n",
       "       [6.80882235, 1.32875398],\n",
       "       [9.18943242, 5.86796974],\n",
       "       [1.62067438, 4.62748749],\n",
       "       [0.24962521, 7.74243356],\n",
       "       [8.2393574 , 8.40813754],\n",
       "       [2.36218269, 2.56926599],\n",
       "       [2.47790281, 2.12597111],\n",
       "       [2.22567569, 9.46578393],\n",
       "       [7.31681999, 4.31556762],\n",
       "       [1.74753893, 2.45534539],\n",
       "       [9.44255788, 7.90507608],\n",
       "       [4.65237515, 8.70963424],\n",
       "       [7.56541742, 0.99369962],\n",
       "       [2.29674001, 3.41837013],\n",
       "       [8.1756603 , 5.39337988],\n",
       "       [7.48404881, 7.59815855],\n",
       "       [3.22916753, 3.30738004],\n",
       "       [3.63062184, 9.95989445],\n",
       "       [2.87432441, 2.87039582],\n",
       "       [4.57782938, 7.95151785],\n",
       "       [9.7940423 , 6.14398878],\n",
       "       [2.38069911, 1.08903164],\n",
       "       [7.11929165, 2.84814666],\n",
       "       [9.60480412, 2.60992986],\n",
       "       [9.5134658 , 8.16495474],\n",
       "       [0.4435291 , 4.03971126],\n",
       "       [2.47255831, 9.90221849],\n",
       "       [1.19365119, 5.20919686],\n",
       "       [1.11839277, 8.07001102],\n",
       "       [0.73704442, 7.17016246],\n",
       "       [1.197765  , 1.51802209],\n",
       "       [7.54581906, 2.98740533]])"
      ]
     },
     "execution_count": 5145,
     "metadata": {},
     "output_type": "execute_result"
    }
   ],
   "source": [
    "AG"
   ]
  },
  {
   "cell_type": "code",
   "execution_count": 5146,
   "metadata": {},
   "outputs": [
    {
     "data": {
      "text/plain": [
       "array([[3.18767882, 3.79696366],\n",
       "       [6.92036808, 9.04767545],\n",
       "       [7.89720962, 9.76109099],\n",
       "       [7.32484371, 2.5451353 ],\n",
       "       [4.54291483, 0.40916932]])"
      ]
     },
     "execution_count": 5146,
     "metadata": {},
     "output_type": "execute_result"
    }
   ],
   "source": [
    "AB"
   ]
  },
  {
   "cell_type": "code",
   "execution_count": 5147,
   "metadata": {},
   "outputs": [],
   "source": [
    "D = [[np.linalg.norm(ag-ab) for ab in AB] for ag in AG]"
   ]
  },
  {
   "cell_type": "code",
   "execution_count": 5148,
   "metadata": {},
   "outputs": [
    {
     "data": {
      "text/plain": [
       "[[3.708310989824442,\n",
       "  4.977958082250833,\n",
       "  5.780402352940782,\n",
       "  1.5866168412535482,\n",
       "  4.346289796480915],\n",
       " [5.195374483985041,\n",
       "  8.732311198045872,\n",
       "  9.483239030421199,\n",
       "  2.246423449336765,\n",
       "  2.50350124645772],\n",
       " [6.2054883273814125,\n",
       "  9.104031446085173,\n",
       "  9.741385417425848,\n",
       "  2.6432684409998273,\n",
       "  3.5909736082096666],\n",
       " [3.6196822139672005,\n",
       "  3.481760894846148,\n",
       "  4.684773725019232,\n",
       "  5.911484897572036,\n",
       "  6.972029668701922],\n",
       " [4.703198119946949,\n",
       "  7.009685503178445,\n",
       "  8.142438100100266,\n",
       "  8.667761292916197,\n",
       "  8.239817982013125],\n",
       " [4.736764633141073,\n",
       "  2.135209889117291,\n",
       "  3.32684236845037,\n",
       "  6.1151615754226,\n",
       "  7.789481840436769],\n",
       " [2.335000656071562,\n",
       "  8.701834113490705,\n",
       "  9.826988628718464,\n",
       "  4.967940915437882,\n",
       "  2.397527860946659],\n",
       " [2.313902767627448,\n",
       "  8.484777523222968,\n",
       "  9.678251306253022,\n",
       "  6.29341013511367,\n",
       "  4.312049169495332],\n",
       " [3.5399732556439387,\n",
       "  8.458058986700713,\n",
       "  9.402198664278034,\n",
       "  2.858040758837016,\n",
       "  0.6494257846689306],\n",
       " [6.758125493315293,\n",
       "  7.56121469992306,\n",
       "  7.950993569186732,\n",
       "  2.440281477619119,\n",
       "  5.409876406586504],\n",
       " [2.041677443332207,\n",
       "  7.3217845842888805,\n",
       "  8.353411988988476,\n",
       "  2.932071543056048,\n",
       "  1.7623720828291036],\n",
       " [4.576607204536799,\n",
       "  11.0188437205502,\n",
       "  12.173110517367425,\n",
       "  7.241470105952109,\n",
       "  4.040923684803265],\n",
       " [5.299625016445198,\n",
       "  3.238977327614669,\n",
       "  3.7656200635511676,\n",
       "  3.5191428451731994,\n",
       "  6.575649914256725],\n",
       " [3.2220349579126926,\n",
       "  9.644233943406023,\n",
       "  10.812970595214647,\n",
       "  6.438481835557654,\n",
       "  3.7116299411729488],\n",
       " [3.601423625868398,\n",
       "  10.03290745093457,\n",
       "  11.174386652209838,\n",
       "  6.218939514615108,\n",
       "  3.1599355062351147],\n",
       " [3.5332804935540576,\n",
       "  5.078235991013799,\n",
       "  5.906760058949907,\n",
       "  1.5525280349605977,\n",
       "  4.17484668576992],\n",
       " [2.826052520653632,\n",
       "  6.622948720961732,\n",
       "  7.547929663414577,\n",
       "  1.608513201510204,\n",
       "  2.4282711060040683],\n",
       " [7.095191092585755,\n",
       "  2.7713740985687707,\n",
       "  2.6108811831516614,\n",
       "  5.32350457578916,\n",
       "  8.513332210106286],\n",
       " [4.38232124597668,\n",
       "  7.719727396272451,\n",
       "  8.502287592061737,\n",
       "  1.3213105430282799,\n",
       "  2.445398298659804],\n",
       " [6.349024525650122,\n",
       "  3.906300220216848,\n",
       "  4.10197914203785,\n",
       "  3.8102388059567023,\n",
       "  7.1685861732059495],\n",
       " [1.773491678662195,\n",
       "  6.901073454307272,\n",
       "  8.108562106619447,\n",
       "  6.072375012571248,\n",
       "  5.131636921935581],\n",
       " [4.919236909372676,\n",
       "  6.797239649859789,\n",
       "  7.909521172345849,\n",
       "  8.778987756978012,\n",
       "  8.497593798354062],\n",
       " [6.839764682545984,\n",
       "  1.4658586460645753,\n",
       "  1.395545830022042,\n",
       "  5.9338967358473225,\n",
       "  8.811763739229688],\n",
       " [1.4794206418296953,\n",
       "  7.921290497713842,\n",
       "  9.07517878335311,\n",
       "  4.9627196791777735,\n",
       "  3.069464173498407],\n",
       " [1.8154883888834525,\n",
       "  8.224687750420957,\n",
       "  9.362902427429967,\n",
       "  4.8650318235900665,\n",
       "  2.685457700448091],\n",
       " [5.749867236862049,\n",
       "  4.713273946035762,\n",
       "  5.679216788202821,\n",
       "  8.596330139421292,\n",
       "  9.348361649824525],\n",
       " [4.16158105506647,\n",
       "  4.748685988186312,\n",
       "  5.476365299931291,\n",
       "  1.7704505025338462,\n",
       "  4.791085217150892],\n",
       " [1.9682333464978934,\n",
       "  8.379557093015432,\n",
       "  9.549469537838718,\n",
       "  5.578027498908047,\n",
       "  3.4642406022042413],\n",
       " [7.483321429410669,\n",
       "  2.7689302440189936,\n",
       "  2.4151382143399793,\n",
       "  5.763130958556869,\n",
       "  8.955172815316134],\n",
       " [5.126369819901133,\n",
       "  2.293046835110557,\n",
       "  3.410940052289947,\n",
       "  6.718864141422652,\n",
       "  8.301186634155394],\n",
       " [5.198354024857923,\n",
       "  8.079765795795154,\n",
       "  8.773667279298726,\n",
       "  1.56997719250771,\n",
       "  3.0785057383562995],\n",
       " [0.9680418499543615,\n",
       "  7.284711035705306,\n",
       "  8.461404596717852,\n",
       "  5.103368085819426,\n",
       "  3.75507534954203],\n",
       " [5.237222925182487,\n",
       "  3.8638885402853487,\n",
       "  4.376578015082927,\n",
       "  2.9726059389074693,\n",
       "  6.167592284706604],\n",
       " [5.736538816578286,\n",
       "  1.5552604996825101,\n",
       "  2.202039651934317,\n",
       "  5.055530651190163,\n",
       "  7.767357028052453],\n",
       " [0.4913384149195173,\n",
       "  6.824657714965366,\n",
       "  7.964986004847886,\n",
       "  4.166002929582414,\n",
       "  3.182068099634656],\n",
       " [6.178827909074199,\n",
       "  3.4138795833234497,\n",
       "  4.271216933256767,\n",
       "  8.284076794785415,\n",
       "  9.594197673914035],\n",
       " [0.978120110858947,\n",
       "  7.384392524981105,\n",
       "  8.527077796501425,\n",
       "  4.46238908993189,\n",
       "  2.9735214667540877],\n",
       " [4.380963252616809,\n",
       "  2.5863195983461864,\n",
       "  3.78058727842312,\n",
       "  6.064244383111347,\n",
       "  7.542429342256195],\n",
       " [7.010889048463871,\n",
       "  4.085266185010632,\n",
       "  4.084287286981355,\n",
       "  4.364480268592504,\n",
       "  7.775763234532301],\n",
       " [2.825617117718185,\n",
       "  9.162347169496947,\n",
       "  10.277961939687694,\n",
       "  5.154105518049965,\n",
       "  2.2665810459132625],\n",
       " [4.044481818745539,\n",
       "  6.2027193917989925,\n",
       "  6.956576439511614,\n",
       "  0.36615232786522567,\n",
       "  3.5477215205767743],\n",
       " [6.525990068571029,\n",
       "  6.975010044929908,\n",
       "  7.352209498049159,\n",
       "  2.280880933638757,\n",
       "  5.519607788929196],\n",
       " [7.6873224839833645,\n",
       "  2.739224648435611,\n",
       "  2.2715490324144687,\n",
       "  6.030956571350072,\n",
       "  9.211871929316846],\n",
       " [2.75486552632469,\n",
       "  8.187133105695885,\n",
       "  9.396357769568398,\n",
       "  7.041750346959933,\n",
       "  5.4759289769115425],\n",
       " [6.146993881395834,\n",
       "  4.529156160124815,\n",
       "  5.426486780433039,\n",
       "  8.813134885722794,\n",
       "  9.716190543299295],\n",
       " [2.4434706439887757,\n",
       "  6.894142743467349,\n",
       "  8.102927604206993,\n",
       "  6.684964145772088,\n",
       "  5.85301899796942],\n",
       " [4.7477235079747,\n",
       "  5.883769646699557,\n",
       "  6.986566351708037,\n",
       "  8.309289078793656,\n",
       "  8.391415081035964],\n",
       " [4.169421915416394,\n",
       "  6.462085306879457,\n",
       "  7.614517473868168,\n",
       "  8.049222054859644,\n",
       "  7.758587368592381],\n",
       " [3.0254473559072954,\n",
       "  9.45747670925942,\n",
       "  10.622181655531785,\n",
       "  6.212572331911825,\n",
       "  3.5241427134484855],\n",
       " [4.432693426761165,\n",
       "  6.092459509758573,\n",
       "  6.782793879434222,\n",
       "  0.49440153932533143,\n",
       "  3.957869971145881]]"
      ]
     },
     "execution_count": 5148,
     "metadata": {},
     "output_type": "execute_result"
    }
   ],
   "source": [
    "D"
   ]
  },
  {
   "cell_type": "code",
   "execution_count": 5149,
   "metadata": {},
   "outputs": [],
   "source": [
    "D=np.array(D)"
   ]
  },
  {
   "cell_type": "code",
   "execution_count": 5150,
   "metadata": {},
   "outputs": [
    {
     "data": {
      "text/plain": [
       "array([[ 3.70831099,  4.97795808,  5.78040235,  1.58661684,  4.3462898 ],\n",
       "       [ 5.19537448,  8.7323112 ,  9.48323903,  2.24642345,  2.50350125],\n",
       "       [ 6.20548833,  9.10403145,  9.74138542,  2.64326844,  3.59097361],\n",
       "       [ 3.61968221,  3.48176089,  4.68477373,  5.9114849 ,  6.97202967],\n",
       "       [ 4.70319812,  7.0096855 ,  8.1424381 ,  8.66776129,  8.23981798],\n",
       "       [ 4.73676463,  2.13520989,  3.32684237,  6.11516158,  7.78948184],\n",
       "       [ 2.33500066,  8.70183411,  9.82698863,  4.96794092,  2.39752786],\n",
       "       [ 2.31390277,  8.48477752,  9.67825131,  6.29341014,  4.31204917],\n",
       "       [ 3.53997326,  8.45805899,  9.40219866,  2.85804076,  0.64942578],\n",
       "       [ 6.75812549,  7.5612147 ,  7.95099357,  2.44028148,  5.40987641],\n",
       "       [ 2.04167744,  7.32178458,  8.35341199,  2.93207154,  1.76237208],\n",
       "       [ 4.5766072 , 11.01884372, 12.17311052,  7.24147011,  4.04092368],\n",
       "       [ 5.29962502,  3.23897733,  3.76562006,  3.51914285,  6.57564991],\n",
       "       [ 3.22203496,  9.64423394, 10.8129706 ,  6.43848184,  3.71162994],\n",
       "       [ 3.60142363, 10.03290745, 11.17438665,  6.21893951,  3.15993551],\n",
       "       [ 3.53328049,  5.07823599,  5.90676006,  1.55252803,  4.17484669],\n",
       "       [ 2.82605252,  6.62294872,  7.54792966,  1.6085132 ,  2.42827111],\n",
       "       [ 7.09519109,  2.7713741 ,  2.61088118,  5.32350458,  8.51333221],\n",
       "       [ 4.38232125,  7.7197274 ,  8.50228759,  1.32131054,  2.4453983 ],\n",
       "       [ 6.34902453,  3.90630022,  4.10197914,  3.81023881,  7.16858617],\n",
       "       [ 1.77349168,  6.90107345,  8.10856211,  6.07237501,  5.13163692],\n",
       "       [ 4.91923691,  6.79723965,  7.90952117,  8.77898776,  8.4975938 ],\n",
       "       [ 6.83976468,  1.46585865,  1.39554583,  5.93389674,  8.81176374],\n",
       "       [ 1.47942064,  7.9212905 ,  9.07517878,  4.96271968,  3.06946417],\n",
       "       [ 1.81548839,  8.22468775,  9.36290243,  4.86503182,  2.6854577 ],\n",
       "       [ 5.74986724,  4.71327395,  5.67921679,  8.59633014,  9.34836165],\n",
       "       [ 4.16158106,  4.74868599,  5.4763653 ,  1.7704505 ,  4.79108522],\n",
       "       [ 1.96823335,  8.37955709,  9.54946954,  5.5780275 ,  3.4642406 ],\n",
       "       [ 7.48332143,  2.76893024,  2.41513821,  5.76313096,  8.95517282],\n",
       "       [ 5.12636982,  2.29304684,  3.41094005,  6.71886414,  8.30118663],\n",
       "       [ 5.19835402,  8.0797658 ,  8.77366728,  1.56997719,  3.07850574],\n",
       "       [ 0.96804185,  7.28471104,  8.4614046 ,  5.10336809,  3.75507535],\n",
       "       [ 5.23722293,  3.86388854,  4.37657802,  2.97260594,  6.16759228],\n",
       "       [ 5.73653882,  1.5552605 ,  2.20203965,  5.05553065,  7.76735703],\n",
       "       [ 0.49133841,  6.82465771,  7.964986  ,  4.16600293,  3.1820681 ],\n",
       "       [ 6.17882791,  3.41387958,  4.27121693,  8.28407679,  9.59419767],\n",
       "       [ 0.97812011,  7.38439252,  8.5270778 ,  4.46238909,  2.97352147],\n",
       "       [ 4.38096325,  2.5863196 ,  3.78058728,  6.06424438,  7.54242934],\n",
       "       [ 7.01088905,  4.08526619,  4.08428729,  4.36448027,  7.77576323],\n",
       "       [ 2.82561712,  9.16234717, 10.27796194,  5.15410552,  2.26658105],\n",
       "       [ 4.04448182,  6.20271939,  6.95657644,  0.36615233,  3.54772152],\n",
       "       [ 6.52599007,  6.97501004,  7.3522095 ,  2.28088093,  5.51960779],\n",
       "       [ 7.68732248,  2.73922465,  2.27154903,  6.03095657,  9.21187193],\n",
       "       [ 2.75486553,  8.18713311,  9.39635777,  7.04175035,  5.47592898],\n",
       "       [ 6.14699388,  4.52915616,  5.42648678,  8.81313489,  9.71619054],\n",
       "       [ 2.44347064,  6.89414274,  8.1029276 ,  6.68496415,  5.853019  ],\n",
       "       [ 4.74772351,  5.88376965,  6.98656635,  8.30928908,  8.39141508],\n",
       "       [ 4.16942192,  6.46208531,  7.61451747,  8.04922205,  7.75858737],\n",
       "       [ 3.02544736,  9.45747671, 10.62218166,  6.21257233,  3.52414271],\n",
       "       [ 4.43269343,  6.09245951,  6.78279388,  0.49440154,  3.95786997]])"
      ]
     },
     "execution_count": 5150,
     "metadata": {},
     "output_type": "execute_result"
    }
   ],
   "source": [
    "D"
   ]
  },
  {
   "cell_type": "code",
   "execution_count": 5151,
   "metadata": {},
   "outputs": [],
   "source": [
    "# Select the n highest affinity cells. \n",
    "# The cells with the least distance are first in the argsorted lists. \n",
    "H = [list(AB[d[0]]) for d in D.argsort()]"
   ]
  },
  {
   "cell_type": "code",
   "execution_count": 5152,
   "metadata": {},
   "outputs": [
    {
     "data": {
      "text/plain": [
       "[[7.324843705422774, 2.5451353027834624],\n",
       " [7.324843705422774, 2.5451353027834624],\n",
       " [7.324843705422774, 2.5451353027834624],\n",
       " [6.920368078727616, 9.04767545134121],\n",
       " [3.1876788204308317, 3.7969636649247853],\n",
       " [6.920368078727616, 9.04767545134121],\n",
       " [3.1876788204308317, 3.7969636649247853],\n",
       " [3.1876788204308317, 3.7969636649247853],\n",
       " [4.542914833787044, 0.4091693164069421],\n",
       " [7.324843705422774, 2.5451353027834624],\n",
       " [4.542914833787044, 0.4091693164069421],\n",
       " [4.542914833787044, 0.4091693164069421],\n",
       " [6.920368078727616, 9.04767545134121],\n",
       " [3.1876788204308317, 3.7969636649247853],\n",
       " [4.542914833787044, 0.4091693164069421],\n",
       " [7.324843705422774, 2.5451353027834624],\n",
       " [7.324843705422774, 2.5451353027834624],\n",
       " [7.897209619271667, 9.761090993899131],\n",
       " [7.324843705422774, 2.5451353027834624],\n",
       " [7.324843705422774, 2.5451353027834624],\n",
       " [3.1876788204308317, 3.7969636649247853],\n",
       " [3.1876788204308317, 3.7969636649247853],\n",
       " [7.897209619271667, 9.761090993899131],\n",
       " [3.1876788204308317, 3.7969636649247853],\n",
       " [3.1876788204308317, 3.7969636649247853],\n",
       " [6.920368078727616, 9.04767545134121],\n",
       " [7.324843705422774, 2.5451353027834624],\n",
       " [3.1876788204308317, 3.7969636649247853],\n",
       " [7.897209619271667, 9.761090993899131],\n",
       " [6.920368078727616, 9.04767545134121],\n",
       " [7.324843705422774, 2.5451353027834624],\n",
       " [3.1876788204308317, 3.7969636649247853],\n",
       " [7.324843705422774, 2.5451353027834624],\n",
       " [6.920368078727616, 9.04767545134121],\n",
       " [3.1876788204308317, 3.7969636649247853],\n",
       " [6.920368078727616, 9.04767545134121],\n",
       " [3.1876788204308317, 3.7969636649247853],\n",
       " [6.920368078727616, 9.04767545134121],\n",
       " [7.897209619271667, 9.761090993899131],\n",
       " [4.542914833787044, 0.4091693164069421],\n",
       " [7.324843705422774, 2.5451353027834624],\n",
       " [7.324843705422774, 2.5451353027834624],\n",
       " [7.897209619271667, 9.761090993899131],\n",
       " [3.1876788204308317, 3.7969636649247853],\n",
       " [6.920368078727616, 9.04767545134121],\n",
       " [3.1876788204308317, 3.7969636649247853],\n",
       " [3.1876788204308317, 3.7969636649247853],\n",
       " [3.1876788204308317, 3.7969636649247853],\n",
       " [3.1876788204308317, 3.7969636649247853],\n",
       " [7.324843705422774, 2.5451353027834624]]"
      ]
     },
     "execution_count": 5152,
     "metadata": {},
     "output_type": "execute_result"
    }
   ],
   "source": [
    "H"
   ]
  },
  {
   "cell_type": "code",
   "execution_count": 5153,
   "metadata": {},
   "outputs": [],
   "source": [
    "# Store the affinity values of the highest affinity cells. \n",
    "# H and HD map directly to one another. \n",
    "# So, the affinity of the first cell in H is the first value in HD. \n",
    "HD = [D[i][d[0]] for (i,d) in enumerate(D.argsort())]"
   ]
  },
  {
   "cell_type": "code",
   "execution_count": 5154,
   "metadata": {},
   "outputs": [
    {
     "data": {
      "text/plain": [
       "[1.5866168412535482,\n",
       " 2.246423449336765,\n",
       " 2.6432684409998273,\n",
       " 3.481760894846148,\n",
       " 4.703198119946949,\n",
       " 2.135209889117291,\n",
       " 2.335000656071562,\n",
       " 2.313902767627448,\n",
       " 0.6494257846689306,\n",
       " 2.440281477619119,\n",
       " 1.7623720828291036,\n",
       " 4.040923684803265,\n",
       " 3.238977327614669,\n",
       " 3.2220349579126926,\n",
       " 3.1599355062351147,\n",
       " 1.5525280349605977,\n",
       " 1.608513201510204,\n",
       " 2.6108811831516614,\n",
       " 1.3213105430282799,\n",
       " 3.8102388059567023,\n",
       " 1.773491678662195,\n",
       " 4.919236909372676,\n",
       " 1.395545830022042,\n",
       " 1.4794206418296953,\n",
       " 1.8154883888834525,\n",
       " 4.713273946035762,\n",
       " 1.7704505025338462,\n",
       " 1.9682333464978934,\n",
       " 2.4151382143399793,\n",
       " 2.293046835110557,\n",
       " 1.56997719250771,\n",
       " 0.9680418499543615,\n",
       " 2.9726059389074693,\n",
       " 1.5552604996825101,\n",
       " 0.4913384149195173,\n",
       " 3.4138795833234497,\n",
       " 0.978120110858947,\n",
       " 2.5863195983461864,\n",
       " 4.084287286981355,\n",
       " 2.2665810459132625,\n",
       " 0.36615232786522567,\n",
       " 2.280880933638757,\n",
       " 2.2715490324144687,\n",
       " 2.75486552632469,\n",
       " 4.529156160124815,\n",
       " 2.4434706439887757,\n",
       " 4.7477235079747,\n",
       " 4.169421915416394,\n",
       " 3.0254473559072954,\n",
       " 0.49440153932533143]"
      ]
     },
     "execution_count": 5154,
     "metadata": {},
     "output_type": "execute_result"
    }
   ],
   "source": [
    "HD"
   ]
  },
  {
   "cell_type": "code",
   "execution_count": 5155,
   "metadata": {},
   "outputs": [],
   "source": [
    "# Pair the HAF cells with HD affinities for sorting. \n",
    "Hab = [(a,b) for a,b in zip(H,HD)]"
   ]
  },
  {
   "cell_type": "code",
   "execution_count": 5156,
   "metadata": {},
   "outputs": [
    {
     "data": {
      "text/plain": [
       "[([7.324843705422774, 2.5451353027834624], 1.5866168412535482),\n",
       " ([7.324843705422774, 2.5451353027834624], 2.246423449336765),\n",
       " ([7.324843705422774, 2.5451353027834624], 2.6432684409998273),\n",
       " ([6.920368078727616, 9.04767545134121], 3.481760894846148),\n",
       " ([3.1876788204308317, 3.7969636649247853], 4.703198119946949),\n",
       " ([6.920368078727616, 9.04767545134121], 2.135209889117291),\n",
       " ([3.1876788204308317, 3.7969636649247853], 2.335000656071562),\n",
       " ([3.1876788204308317, 3.7969636649247853], 2.313902767627448),\n",
       " ([4.542914833787044, 0.4091693164069421], 0.6494257846689306),\n",
       " ([7.324843705422774, 2.5451353027834624], 2.440281477619119),\n",
       " ([4.542914833787044, 0.4091693164069421], 1.7623720828291036),\n",
       " ([4.542914833787044, 0.4091693164069421], 4.040923684803265),\n",
       " ([6.920368078727616, 9.04767545134121], 3.238977327614669),\n",
       " ([3.1876788204308317, 3.7969636649247853], 3.2220349579126926),\n",
       " ([4.542914833787044, 0.4091693164069421], 3.1599355062351147),\n",
       " ([7.324843705422774, 2.5451353027834624], 1.5525280349605977),\n",
       " ([7.324843705422774, 2.5451353027834624], 1.608513201510204),\n",
       " ([7.897209619271667, 9.761090993899131], 2.6108811831516614),\n",
       " ([7.324843705422774, 2.5451353027834624], 1.3213105430282799),\n",
       " ([7.324843705422774, 2.5451353027834624], 3.8102388059567023),\n",
       " ([3.1876788204308317, 3.7969636649247853], 1.773491678662195),\n",
       " ([3.1876788204308317, 3.7969636649247853], 4.919236909372676),\n",
       " ([7.897209619271667, 9.761090993899131], 1.395545830022042),\n",
       " ([3.1876788204308317, 3.7969636649247853], 1.4794206418296953),\n",
       " ([3.1876788204308317, 3.7969636649247853], 1.8154883888834525),\n",
       " ([6.920368078727616, 9.04767545134121], 4.713273946035762),\n",
       " ([7.324843705422774, 2.5451353027834624], 1.7704505025338462),\n",
       " ([3.1876788204308317, 3.7969636649247853], 1.9682333464978934),\n",
       " ([7.897209619271667, 9.761090993899131], 2.4151382143399793),\n",
       " ([6.920368078727616, 9.04767545134121], 2.293046835110557),\n",
       " ([7.324843705422774, 2.5451353027834624], 1.56997719250771),\n",
       " ([3.1876788204308317, 3.7969636649247853], 0.9680418499543615),\n",
       " ([7.324843705422774, 2.5451353027834624], 2.9726059389074693),\n",
       " ([6.920368078727616, 9.04767545134121], 1.5552604996825101),\n",
       " ([3.1876788204308317, 3.7969636649247853], 0.4913384149195173),\n",
       " ([6.920368078727616, 9.04767545134121], 3.4138795833234497),\n",
       " ([3.1876788204308317, 3.7969636649247853], 0.978120110858947),\n",
       " ([6.920368078727616, 9.04767545134121], 2.5863195983461864),\n",
       " ([7.897209619271667, 9.761090993899131], 4.084287286981355),\n",
       " ([4.542914833787044, 0.4091693164069421], 2.2665810459132625),\n",
       " ([7.324843705422774, 2.5451353027834624], 0.36615232786522567),\n",
       " ([7.324843705422774, 2.5451353027834624], 2.280880933638757),\n",
       " ([7.897209619271667, 9.761090993899131], 2.2715490324144687),\n",
       " ([3.1876788204308317, 3.7969636649247853], 2.75486552632469),\n",
       " ([6.920368078727616, 9.04767545134121], 4.529156160124815),\n",
       " ([3.1876788204308317, 3.7969636649247853], 2.4434706439887757),\n",
       " ([3.1876788204308317, 3.7969636649247853], 4.7477235079747),\n",
       " ([3.1876788204308317, 3.7969636649247853], 4.169421915416394),\n",
       " ([3.1876788204308317, 3.7969636649247853], 3.0254473559072954),\n",
       " ([7.324843705422774, 2.5451353027834624], 0.49440153932533143)]"
      ]
     },
     "execution_count": 5156,
     "metadata": {},
     "output_type": "execute_result"
    }
   ],
   "source": [
    "Hab"
   ]
  },
  {
   "cell_type": "code",
   "execution_count": 5157,
   "metadata": {},
   "outputs": [],
   "source": [
    "Hab = sorted(Hab, key=lambda k:k[1])"
   ]
  },
  {
   "cell_type": "code",
   "execution_count": 5158,
   "metadata": {},
   "outputs": [
    {
     "data": {
      "text/plain": [
       "[([7.324843705422774, 2.5451353027834624], 0.36615232786522567),\n",
       " ([3.1876788204308317, 3.7969636649247853], 0.4913384149195173),\n",
       " ([7.324843705422774, 2.5451353027834624], 0.49440153932533143),\n",
       " ([4.542914833787044, 0.4091693164069421], 0.6494257846689306),\n",
       " ([3.1876788204308317, 3.7969636649247853], 0.9680418499543615),\n",
       " ([3.1876788204308317, 3.7969636649247853], 0.978120110858947),\n",
       " ([7.324843705422774, 2.5451353027834624], 1.3213105430282799),\n",
       " ([7.897209619271667, 9.761090993899131], 1.395545830022042),\n",
       " ([3.1876788204308317, 3.7969636649247853], 1.4794206418296953),\n",
       " ([7.324843705422774, 2.5451353027834624], 1.5525280349605977),\n",
       " ([6.920368078727616, 9.04767545134121], 1.5552604996825101),\n",
       " ([7.324843705422774, 2.5451353027834624], 1.56997719250771),\n",
       " ([7.324843705422774, 2.5451353027834624], 1.5866168412535482),\n",
       " ([7.324843705422774, 2.5451353027834624], 1.608513201510204),\n",
       " ([4.542914833787044, 0.4091693164069421], 1.7623720828291036),\n",
       " ([7.324843705422774, 2.5451353027834624], 1.7704505025338462),\n",
       " ([3.1876788204308317, 3.7969636649247853], 1.773491678662195),\n",
       " ([3.1876788204308317, 3.7969636649247853], 1.8154883888834525),\n",
       " ([3.1876788204308317, 3.7969636649247853], 1.9682333464978934),\n",
       " ([6.920368078727616, 9.04767545134121], 2.135209889117291),\n",
       " ([7.324843705422774, 2.5451353027834624], 2.246423449336765),\n",
       " ([4.542914833787044, 0.4091693164069421], 2.2665810459132625),\n",
       " ([7.897209619271667, 9.761090993899131], 2.2715490324144687),\n",
       " ([7.324843705422774, 2.5451353027834624], 2.280880933638757),\n",
       " ([6.920368078727616, 9.04767545134121], 2.293046835110557),\n",
       " ([3.1876788204308317, 3.7969636649247853], 2.313902767627448),\n",
       " ([3.1876788204308317, 3.7969636649247853], 2.335000656071562),\n",
       " ([7.897209619271667, 9.761090993899131], 2.4151382143399793),\n",
       " ([7.324843705422774, 2.5451353027834624], 2.440281477619119),\n",
       " ([3.1876788204308317, 3.7969636649247853], 2.4434706439887757),\n",
       " ([6.920368078727616, 9.04767545134121], 2.5863195983461864),\n",
       " ([7.897209619271667, 9.761090993899131], 2.6108811831516614),\n",
       " ([7.324843705422774, 2.5451353027834624], 2.6432684409998273),\n",
       " ([3.1876788204308317, 3.7969636649247853], 2.75486552632469),\n",
       " ([7.324843705422774, 2.5451353027834624], 2.9726059389074693),\n",
       " ([3.1876788204308317, 3.7969636649247853], 3.0254473559072954),\n",
       " ([4.542914833787044, 0.4091693164069421], 3.1599355062351147),\n",
       " ([3.1876788204308317, 3.7969636649247853], 3.2220349579126926),\n",
       " ([6.920368078727616, 9.04767545134121], 3.238977327614669),\n",
       " ([6.920368078727616, 9.04767545134121], 3.4138795833234497),\n",
       " ([6.920368078727616, 9.04767545134121], 3.481760894846148),\n",
       " ([7.324843705422774, 2.5451353027834624], 3.8102388059567023),\n",
       " ([4.542914833787044, 0.4091693164069421], 4.040923684803265),\n",
       " ([7.897209619271667, 9.761090993899131], 4.084287286981355),\n",
       " ([3.1876788204308317, 3.7969636649247853], 4.169421915416394),\n",
       " ([6.920368078727616, 9.04767545134121], 4.529156160124815),\n",
       " ([3.1876788204308317, 3.7969636649247853], 4.703198119946949),\n",
       " ([6.920368078727616, 9.04767545134121], 4.713273946035762),\n",
       " ([3.1876788204308317, 3.7969636649247853], 4.7477235079747),\n",
       " ([3.1876788204308317, 3.7969636649247853], 4.919236909372676)]"
      ]
     },
     "execution_count": 5158,
     "metadata": {},
     "output_type": "execute_result"
    }
   ],
   "source": [
    "Hab"
   ]
  },
  {
   "cell_type": "code",
   "execution_count": 5159,
   "metadata": {},
   "outputs": [],
   "source": [
    "select = math.ceil(len(Hab)*p_select)"
   ]
  },
  {
   "cell_type": "code",
   "execution_count": 5160,
   "metadata": {},
   "outputs": [
    {
     "data": {
      "text/plain": [
       "45"
      ]
     },
     "execution_count": 5160,
     "metadata": {},
     "output_type": "execute_result"
    }
   ],
   "source": [
    "select"
   ]
  },
  {
   "cell_type": "code",
   "execution_count": 5161,
   "metadata": {},
   "outputs": [],
   "source": [
    "Hab = Hab[:select]"
   ]
  },
  {
   "cell_type": "code",
   "execution_count": 5162,
   "metadata": {},
   "outputs": [
    {
     "data": {
      "text/plain": [
       "[([7.324843705422774, 2.5451353027834624], 0.36615232786522567),\n",
       " ([3.1876788204308317, 3.7969636649247853], 0.4913384149195173),\n",
       " ([7.324843705422774, 2.5451353027834624], 0.49440153932533143),\n",
       " ([4.542914833787044, 0.4091693164069421], 0.6494257846689306),\n",
       " ([3.1876788204308317, 3.7969636649247853], 0.9680418499543615),\n",
       " ([3.1876788204308317, 3.7969636649247853], 0.978120110858947),\n",
       " ([7.324843705422774, 2.5451353027834624], 1.3213105430282799),\n",
       " ([7.897209619271667, 9.761090993899131], 1.395545830022042),\n",
       " ([3.1876788204308317, 3.7969636649247853], 1.4794206418296953),\n",
       " ([7.324843705422774, 2.5451353027834624], 1.5525280349605977),\n",
       " ([6.920368078727616, 9.04767545134121], 1.5552604996825101),\n",
       " ([7.324843705422774, 2.5451353027834624], 1.56997719250771),\n",
       " ([7.324843705422774, 2.5451353027834624], 1.5866168412535482),\n",
       " ([7.324843705422774, 2.5451353027834624], 1.608513201510204),\n",
       " ([4.542914833787044, 0.4091693164069421], 1.7623720828291036),\n",
       " ([7.324843705422774, 2.5451353027834624], 1.7704505025338462),\n",
       " ([3.1876788204308317, 3.7969636649247853], 1.773491678662195),\n",
       " ([3.1876788204308317, 3.7969636649247853], 1.8154883888834525),\n",
       " ([3.1876788204308317, 3.7969636649247853], 1.9682333464978934),\n",
       " ([6.920368078727616, 9.04767545134121], 2.135209889117291),\n",
       " ([7.324843705422774, 2.5451353027834624], 2.246423449336765),\n",
       " ([4.542914833787044, 0.4091693164069421], 2.2665810459132625),\n",
       " ([7.897209619271667, 9.761090993899131], 2.2715490324144687),\n",
       " ([7.324843705422774, 2.5451353027834624], 2.280880933638757),\n",
       " ([6.920368078727616, 9.04767545134121], 2.293046835110557),\n",
       " ([3.1876788204308317, 3.7969636649247853], 2.313902767627448),\n",
       " ([3.1876788204308317, 3.7969636649247853], 2.335000656071562),\n",
       " ([7.897209619271667, 9.761090993899131], 2.4151382143399793),\n",
       " ([7.324843705422774, 2.5451353027834624], 2.440281477619119),\n",
       " ([3.1876788204308317, 3.7969636649247853], 2.4434706439887757),\n",
       " ([6.920368078727616, 9.04767545134121], 2.5863195983461864),\n",
       " ([7.897209619271667, 9.761090993899131], 2.6108811831516614),\n",
       " ([7.324843705422774, 2.5451353027834624], 2.6432684409998273),\n",
       " ([3.1876788204308317, 3.7969636649247853], 2.75486552632469),\n",
       " ([7.324843705422774, 2.5451353027834624], 2.9726059389074693),\n",
       " ([3.1876788204308317, 3.7969636649247853], 3.0254473559072954),\n",
       " ([4.542914833787044, 0.4091693164069421], 3.1599355062351147),\n",
       " ([3.1876788204308317, 3.7969636649247853], 3.2220349579126926),\n",
       " ([6.920368078727616, 9.04767545134121], 3.238977327614669),\n",
       " ([6.920368078727616, 9.04767545134121], 3.4138795833234497),\n",
       " ([6.920368078727616, 9.04767545134121], 3.481760894846148),\n",
       " ([7.324843705422774, 2.5451353027834624], 3.8102388059567023),\n",
       " ([4.542914833787044, 0.4091693164069421], 4.040923684803265),\n",
       " ([7.897209619271667, 9.761090993899131], 4.084287286981355),\n",
       " ([3.1876788204308317, 3.7969636649247853], 4.169421915416394)]"
      ]
     },
     "execution_count": 5162,
     "metadata": {},
     "output_type": "execute_result"
    }
   ],
   "source": [
    "Hab"
   ]
  },
  {
   "cell_type": "code",
   "execution_count": 5163,
   "metadata": {},
   "outputs": [],
   "source": [
    "D = [hab[1] for hab in Hab]"
   ]
  },
  {
   "cell_type": "code",
   "execution_count": 5164,
   "metadata": {},
   "outputs": [],
   "source": [
    "H = [hab[0] for hab in Hab] "
   ]
  },
  {
   "cell_type": "code",
   "execution_count": 5165,
   "metadata": {},
   "outputs": [
    {
     "data": {
      "text/plain": [
       "[[7.324843705422774, 2.5451353027834624],\n",
       " [3.1876788204308317, 3.7969636649247853],\n",
       " [7.324843705422774, 2.5451353027834624],\n",
       " [4.542914833787044, 0.4091693164069421],\n",
       " [3.1876788204308317, 3.7969636649247853],\n",
       " [3.1876788204308317, 3.7969636649247853],\n",
       " [7.324843705422774, 2.5451353027834624],\n",
       " [7.897209619271667, 9.761090993899131],\n",
       " [3.1876788204308317, 3.7969636649247853],\n",
       " [7.324843705422774, 2.5451353027834624],\n",
       " [6.920368078727616, 9.04767545134121],\n",
       " [7.324843705422774, 2.5451353027834624],\n",
       " [7.324843705422774, 2.5451353027834624],\n",
       " [7.324843705422774, 2.5451353027834624],\n",
       " [4.542914833787044, 0.4091693164069421],\n",
       " [7.324843705422774, 2.5451353027834624],\n",
       " [3.1876788204308317, 3.7969636649247853],\n",
       " [3.1876788204308317, 3.7969636649247853],\n",
       " [3.1876788204308317, 3.7969636649247853],\n",
       " [6.920368078727616, 9.04767545134121],\n",
       " [7.324843705422774, 2.5451353027834624],\n",
       " [4.542914833787044, 0.4091693164069421],\n",
       " [7.897209619271667, 9.761090993899131],\n",
       " [7.324843705422774, 2.5451353027834624],\n",
       " [6.920368078727616, 9.04767545134121],\n",
       " [3.1876788204308317, 3.7969636649247853],\n",
       " [3.1876788204308317, 3.7969636649247853],\n",
       " [7.897209619271667, 9.761090993899131],\n",
       " [7.324843705422774, 2.5451353027834624],\n",
       " [3.1876788204308317, 3.7969636649247853],\n",
       " [6.920368078727616, 9.04767545134121],\n",
       " [7.897209619271667, 9.761090993899131],\n",
       " [7.324843705422774, 2.5451353027834624],\n",
       " [3.1876788204308317, 3.7969636649247853],\n",
       " [7.324843705422774, 2.5451353027834624],\n",
       " [3.1876788204308317, 3.7969636649247853],\n",
       " [4.542914833787044, 0.4091693164069421],\n",
       " [3.1876788204308317, 3.7969636649247853],\n",
       " [6.920368078727616, 9.04767545134121],\n",
       " [6.920368078727616, 9.04767545134121],\n",
       " [6.920368078727616, 9.04767545134121],\n",
       " [7.324843705422774, 2.5451353027834624],\n",
       " [4.542914833787044, 0.4091693164069421],\n",
       " [7.897209619271667, 9.761090993899131],\n",
       " [3.1876788204308317, 3.7969636649247853]]"
      ]
     },
     "execution_count": 5165,
     "metadata": {},
     "output_type": "execute_result"
    }
   ],
   "source": [
    "H"
   ]
  },
  {
   "cell_type": "code",
   "execution_count": 5166,
   "metadata": {
    "scrolled": true
   },
   "outputs": [
    {
     "data": {
      "text/plain": [
       "[0.36615232786522567,\n",
       " 0.4913384149195173,\n",
       " 0.49440153932533143,\n",
       " 0.6494257846689306,\n",
       " 0.9680418499543615,\n",
       " 0.978120110858947,\n",
       " 1.3213105430282799,\n",
       " 1.395545830022042,\n",
       " 1.4794206418296953,\n",
       " 1.5525280349605977,\n",
       " 1.5552604996825101,\n",
       " 1.56997719250771,\n",
       " 1.5866168412535482,\n",
       " 1.608513201510204,\n",
       " 1.7623720828291036,\n",
       " 1.7704505025338462,\n",
       " 1.773491678662195,\n",
       " 1.8154883888834525,\n",
       " 1.9682333464978934,\n",
       " 2.135209889117291,\n",
       " 2.246423449336765,\n",
       " 2.2665810459132625,\n",
       " 2.2715490324144687,\n",
       " 2.280880933638757,\n",
       " 2.293046835110557,\n",
       " 2.313902767627448,\n",
       " 2.335000656071562,\n",
       " 2.4151382143399793,\n",
       " 2.440281477619119,\n",
       " 2.4434706439887757,\n",
       " 2.5863195983461864,\n",
       " 2.6108811831516614,\n",
       " 2.6432684409998273,\n",
       " 2.75486552632469,\n",
       " 2.9726059389074693,\n",
       " 3.0254473559072954,\n",
       " 3.1599355062351147,\n",
       " 3.2220349579126926,\n",
       " 3.238977327614669,\n",
       " 3.4138795833234497,\n",
       " 3.481760894846148,\n",
       " 3.8102388059567023,\n",
       " 4.040923684803265,\n",
       " 4.084287286981355,\n",
       " 4.169421915416394]"
      ]
     },
     "execution_count": 5166,
     "metadata": {},
     "output_type": "execute_result"
    }
   ],
   "source": [
    "D"
   ]
  },
  {
   "cell_type": "code",
   "execution_count": 5167,
   "metadata": {},
   "outputs": [],
   "source": [
    "D_array = np.array(D)"
   ]
  },
  {
   "cell_type": "code",
   "execution_count": 5168,
   "metadata": {
    "scrolled": true
   },
   "outputs": [
    {
     "data": {
      "text/plain": [
       "array([0.36615233, 0.49133841, 0.49440154, 0.64942578, 0.96804185,\n",
       "       0.97812011, 1.32131054, 1.39554583, 1.47942064, 1.55252803,\n",
       "       1.5552605 , 1.56997719, 1.58661684, 1.6085132 , 1.76237208,\n",
       "       1.7704505 , 1.77349168, 1.81548839, 1.96823335, 2.13520989,\n",
       "       2.24642345, 2.26658105, 2.27154903, 2.28088093, 2.29304684,\n",
       "       2.31390277, 2.33500066, 2.41513821, 2.44028148, 2.44347064,\n",
       "       2.5863196 , 2.61088118, 2.64326844, 2.75486553, 2.97260594,\n",
       "       3.02544736, 3.15993551, 3.22203496, 3.23897733, 3.41387958,\n",
       "       3.48176089, 3.81023881, 4.04092368, 4.08428729, 4.16942192])"
      ]
     },
     "execution_count": 5168,
     "metadata": {},
     "output_type": "execute_result"
    }
   ],
   "source": [
    "D_array"
   ]
  },
  {
   "cell_type": "code",
   "execution_count": 5169,
   "metadata": {},
   "outputs": [],
   "source": [
    "Dnorm = (D_array-D_array.min()) / (D_array.max() - D_array.min())"
   ]
  },
  {
   "cell_type": "code",
   "execution_count": 5170,
   "metadata": {},
   "outputs": [
    {
     "data": {
      "text/plain": [
       "array([0.        , 0.03291539, 0.03372078, 0.07448156, 0.15825581,\n",
       "       0.16090571, 0.25114134, 0.27066015, 0.29271349, 0.31193574,\n",
       "       0.31265419, 0.31652367, 0.32089876, 0.32665601, 0.36711038,\n",
       "       0.36923446, 0.37003408, 0.38107634, 0.42123783, 0.46514125,\n",
       "       0.49438281, 0.49968288, 0.50098913, 0.50344278, 0.50664158,\n",
       "       0.51212526, 0.51767257, 0.53874327, 0.54535423, 0.54619276,\n",
       "       0.58375227, 0.59021029, 0.59872593, 0.62806834, 0.68531918,\n",
       "       0.69921287, 0.73457406, 0.75090197, 0.75535666, 0.801344  ,\n",
       "       0.81919214, 0.90555939, 0.96621375, 0.97761541, 1.        ])"
      ]
     },
     "execution_count": 5170,
     "metadata": {},
     "output_type": "execute_result"
    }
   ],
   "source": [
    "Dnorm"
   ]
  },
  {
   "cell_type": "code",
   "execution_count": 5171,
   "metadata": {},
   "outputs": [],
   "source": [
    "D = np.array([1])-Dnorm"
   ]
  },
  {
   "cell_type": "code",
   "execution_count": 5172,
   "metadata": {},
   "outputs": [
    {
     "data": {
      "text/plain": [
       "array([1.        , 0.96708461, 0.96627922, 0.92551844, 0.84174419,\n",
       "       0.83909429, 0.74885866, 0.72933985, 0.70728651, 0.68806426,\n",
       "       0.68734581, 0.68347633, 0.67910124, 0.67334399, 0.63288962,\n",
       "       0.63076554, 0.62996592, 0.61892366, 0.57876217, 0.53485875,\n",
       "       0.50561719, 0.50031712, 0.49901087, 0.49655722, 0.49335842,\n",
       "       0.48787474, 0.48232743, 0.46125673, 0.45464577, 0.45380724,\n",
       "       0.41624773, 0.40978971, 0.40127407, 0.37193166, 0.31468082,\n",
       "       0.30078713, 0.26542594, 0.24909803, 0.24464334, 0.198656  ,\n",
       "       0.18080786, 0.09444061, 0.03378625, 0.02238459, 0.        ])"
      ]
     },
     "execution_count": 5172,
     "metadata": {},
     "output_type": "execute_result"
    }
   ],
   "source": [
    "D"
   ]
  },
  {
   "cell_type": "code",
   "execution_count": 5173,
   "metadata": {},
   "outputs": [],
   "source": [
    "N = D*n_clones"
   ]
  },
  {
   "cell_type": "code",
   "execution_count": 5174,
   "metadata": {
    "scrolled": true
   },
   "outputs": [],
   "source": [
    "N=N.astype(int)"
   ]
  },
  {
   "cell_type": "code",
   "execution_count": 5175,
   "metadata": {},
   "outputs": [
    {
     "data": {
      "text/plain": [
       "array([100,  96,  96,  92,  84,  83,  74,  72,  70,  68,  68,  68,  67,\n",
       "        67,  63,  63,  62,  61,  57,  53,  50,  50,  49,  49,  49,  48,\n",
       "        48,  46,  45,  45,  41,  40,  40,  37,  31,  30,  26,  24,  24,\n",
       "        19,  18,   9,   3,   2,   0])"
      ]
     },
     "execution_count": 5175,
     "metadata": {},
     "output_type": "execute_result"
    }
   ],
   "source": [
    "N"
   ]
  },
  {
   "cell_type": "code",
   "execution_count": 5176,
   "metadata": {},
   "outputs": [],
   "source": [
    "H = np.repeat(H,N,axis=0)"
   ]
  },
  {
   "cell_type": "code",
   "execution_count": 5177,
   "metadata": {},
   "outputs": [
    {
     "data": {
      "text/plain": [
       "array([[7.32484371, 2.5451353 ],\n",
       "       [7.32484371, 2.5451353 ],\n",
       "       [7.32484371, 2.5451353 ],\n",
       "       ...,\n",
       "       [4.54291483, 0.40916932],\n",
       "       [7.89720962, 9.76109099],\n",
       "       [7.89720962, 9.76109099]])"
      ]
     },
     "execution_count": 5177,
     "metadata": {},
     "output_type": "execute_result"
    }
   ],
   "source": [
    "H"
   ]
  },
  {
   "cell_type": "code",
   "execution_count": 5178,
   "metadata": {},
   "outputs": [],
   "source": [
    "H = np.array([h-learn_rate*(h-AG) for h in H])"
   ]
  },
  {
   "cell_type": "code",
   "execution_count": 5179,
   "metadata": {},
   "outputs": [
    {
     "data": {
      "text/plain": [
       "array([[[6.88593663, 4.06983645],\n",
       "        [7.04469108, 0.3162493 ],\n",
       "        [8.11296597, 0.0220952 ],\n",
       "        ...,\n",
       "        [0.73704442, 7.17016246],\n",
       "        [1.197765  , 1.51802209],\n",
       "        [7.54581906, 2.98740533]],\n",
       "\n",
       "       [[6.88593663, 4.06983645],\n",
       "        [7.04469108, 0.3162493 ],\n",
       "        [8.11296597, 0.0220952 ],\n",
       "        ...,\n",
       "        [0.73704442, 7.17016246],\n",
       "        [1.197765  , 1.51802209],\n",
       "        [7.54581906, 2.98740533]],\n",
       "\n",
       "       [[6.88593663, 4.06983645],\n",
       "        [7.04469108, 0.3162493 ],\n",
       "        [8.11296597, 0.0220952 ],\n",
       "        ...,\n",
       "        [0.73704442, 7.17016246],\n",
       "        [1.197765  , 1.51802209],\n",
       "        [7.54581906, 2.98740533]],\n",
       "\n",
       "       ...,\n",
       "\n",
       "       [[6.88593663, 4.06983645],\n",
       "        [7.04469108, 0.3162493 ],\n",
       "        [8.11296597, 0.0220952 ],\n",
       "        ...,\n",
       "        [0.73704442, 7.17016246],\n",
       "        [1.197765  , 1.51802209],\n",
       "        [7.54581906, 2.98740533]],\n",
       "\n",
       "       [[6.88593663, 4.06983645],\n",
       "        [7.04469108, 0.3162493 ],\n",
       "        [8.11296597, 0.0220952 ],\n",
       "        ...,\n",
       "        [0.73704442, 7.17016246],\n",
       "        [1.197765  , 1.51802209],\n",
       "        [7.54581906, 2.98740533]],\n",
       "\n",
       "       [[6.88593663, 4.06983645],\n",
       "        [7.04469108, 0.3162493 ],\n",
       "        [8.11296597, 0.0220952 ],\n",
       "        ...,\n",
       "        [0.73704442, 7.17016246],\n",
       "        [1.197765  , 1.51802209],\n",
       "        [7.54581906, 2.98740533]]])"
      ]
     },
     "execution_count": 5179,
     "metadata": {},
     "output_type": "execute_result"
    }
   ],
   "source": [
    "H"
   ]
  },
  {
   "cell_type": "code",
   "execution_count": 5180,
   "metadata": {},
   "outputs": [],
   "source": [
    "H = np.reshape(H, (H.shape[0]*H.shape[1], H.shape[2]))"
   ]
  },
  {
   "cell_type": "code",
   "execution_count": 5181,
   "metadata": {},
   "outputs": [
    {
     "data": {
      "text/plain": [
       "array([[6.88593663, 4.06983645],\n",
       "       [7.04469108, 0.3162493 ],\n",
       "       [8.11296597, 0.0220952 ],\n",
       "       ...,\n",
       "       [0.73704442, 7.17016246],\n",
       "       [1.197765  , 1.51802209],\n",
       "       [7.54581906, 2.98740533]])"
      ]
     },
     "execution_count": 5181,
     "metadata": {},
     "output_type": "execute_result"
    }
   ],
   "source": [
    "H"
   ]
  },
  {
   "cell_type": "code",
   "execution_count": 5182,
   "metadata": {},
   "outputs": [],
   "source": [
    "D = np.array([[np.linalg.norm(ag-ab) for ab in H] for ag in AG])"
   ]
  },
  {
   "cell_type": "code",
   "execution_count": 5183,
   "metadata": {},
   "outputs": [
    {
     "data": {
      "text/plain": [
       "array([[0.00000000e+00, 3.75694283e+00, 4.22963476e+00, ...,\n",
       "        6.88628324e+00, 6.23434463e+00, 1.26771524e+00],\n",
       "       [3.75694283e+00, 0.00000000e+00, 1.10803334e+00, ...,\n",
       "        9.31464073e+00, 5.96915424e+00, 2.71775713e+00],\n",
       "       [4.22963476e+00, 1.10803334e+00, 0.00000000e+00, ...,\n",
       "        1.02712747e+01, 7.07515382e+00, 3.01905942e+00],\n",
       "       ...,\n",
       "       [6.88628324e+00, 9.31464073e+00, 1.02712747e+01, ...,\n",
       "        2.22044605e-16, 5.67088655e+00, 7.99092418e+00],\n",
       "       [6.23434463e+00, 5.96915424e+00, 7.07515382e+00, ...,\n",
       "        5.67088655e+00, 6.28036983e-16, 6.51589421e+00],\n",
       "       [1.26771524e+00, 2.71775713e+00, 3.01905942e+00, ...,\n",
       "        7.99092418e+00, 6.51589421e+00, 0.00000000e+00]])"
      ]
     },
     "execution_count": 5183,
     "metadata": {},
     "output_type": "execute_result"
    }
   ],
   "source": [
    "D"
   ]
  },
  {
   "cell_type": "code",
   "execution_count": 5184,
   "metadata": {},
   "outputs": [
    {
     "data": {
      "text/plain": [
       "(50, 114350)"
      ]
     },
     "execution_count": 5184,
     "metadata": {},
     "output_type": "execute_result"
    }
   ],
   "source": [
    "D.shape"
   ]
  },
  {
   "cell_type": "code",
   "execution_count": 5185,
   "metadata": {},
   "outputs": [],
   "source": [
    "HD = [D[i][d[0]] for (i,d) in enumerate(D.argsort())]"
   ]
  },
  {
   "cell_type": "code",
   "execution_count": 5186,
   "metadata": {},
   "outputs": [
    {
     "data": {
      "text/plain": [
       "[0.0,\n",
       " 0.0,\n",
       " 0.0,\n",
       " 0.0,\n",
       " 0.0,\n",
       " 0.0,\n",
       " 0.0,\n",
       " 2.220446049250313e-16,\n",
       " 0.0,\n",
       " 0.0,\n",
       " 0.0,\n",
       " 0.0,\n",
       " 0.0,\n",
       " 0.0,\n",
       " 0.0,\n",
       " 0.0,\n",
       " 0.0,\n",
       " 0.0,\n",
       " 0.0,\n",
       " 0.0,\n",
       " 0.0,\n",
       " 2.220446049250313e-16,\n",
       " 0.0,\n",
       " 0.0,\n",
       " 0.0,\n",
       " 0.0,\n",
       " 0.0,\n",
       " 0.0,\n",
       " 0.0,\n",
       " 0.0,\n",
       " 0.0,\n",
       " 0.0,\n",
       " 0.0,\n",
       " 0.0,\n",
       " 0.0,\n",
       " 0.0,\n",
       " 0.0,\n",
       " 0.0,\n",
       " 0.0,\n",
       " 0.0,\n",
       " 0.0,\n",
       " 0.0,\n",
       " 0.0,\n",
       " 0.0,\n",
       " 0.0,\n",
       " 0.0,\n",
       " 0.0,\n",
       " 2.220446049250313e-16,\n",
       " 0.0,\n",
       " 0.0]"
      ]
     },
     "execution_count": 5186,
     "metadata": {},
     "output_type": "execute_result"
    }
   ],
   "source": [
    "HD"
   ]
  },
  {
   "cell_type": "code",
   "execution_count": 5187,
   "metadata": {},
   "outputs": [],
   "source": [
    "H=[H[d[0]].tolist() for d in D.argsort()]"
   ]
  },
  {
   "cell_type": "code",
   "execution_count": 5188,
   "metadata": {},
   "outputs": [
    {
     "data": {
      "text/plain": [
       "[[6.885936632098549, 4.069836447905138],\n",
       " [7.044691075060115, 0.31624929909664923],\n",
       " [8.112965965663214, 0.022095201219645144],\n",
       " [3.880718175335982, 7.349680341309654],\n",
       " [0.11702276163506165, 7.359426847057808],\n",
       " [4.966244475597482, 8.187139447286775],\n",
       " [2.451335323105046, 1.581105745788124],\n",
       " [1.0430967628368313, 2.928105899649106],\n",
       " [5.0648098648176285, 0.7956656635804205],\n",
       " [9.70772668485493, 2.018977155128705],\n",
       " [4.41725033849563, 2.167055488193542],\n",
       " [0.5152869267709237, 0.08163661723181725],\n",
       " [8.00901561179491, 5.997131126544673],\n",
       " [0.9801925198633321, 1.4499414019672607],\n",
       " [1.3940911692173497, 0.6739370127206157],\n",
       " [6.716544763714629, 3.973531500221472],\n",
       " [5.716361894897291, 2.53508619131667],\n",
       " [9.230045781842634, 7.51604125808513],\n",
       " [6.808822351483556, 1.3287539837077278],\n",
       " [9.189432420272016, 5.867969737851693],\n",
       " [1.6206743845619231, 4.627487494956901],\n",
       " [0.2496252059553159, 7.742433564569414],\n",
       " [8.239357397914128, 8.408137535253218],\n",
       " [2.3621826930227465, 2.5692659907777493],\n",
       " [2.4779028117478905, 2.1259711132750936],\n",
       " [2.225675693878022, 9.465783932497416],\n",
       " [7.316819991682481, 4.315567623415958],\n",
       " [1.7475389307536726, 2.455345386714863],\n",
       " [9.442557875966934, 7.905076080194448],\n",
       " [4.652375149168452, 8.709634241604613],\n",
       " [7.565417423170343, 0.9936996220917027],\n",
       " [2.2967400120034265, 3.4183701323585014],\n",
       " [8.175660298365457, 5.393379883784427],\n",
       " [7.484048807657668, 7.598158546401645],\n",
       " [3.229167525703324, 3.3073800404943556],\n",
       " [3.630621839979841, 9.959894445923956],\n",
       " [2.8743244116813216, 2.870395822948838],\n",
       " [4.577829376521113, 7.951517847045983],\n",
       " [9.79404229576853, 6.143988778040246],\n",
       " [2.380699105714018, 1.0890316428870106],\n",
       " [7.119291653444023, 2.8481466575681447],\n",
       " [9.604804121394528, 2.60992986303905],\n",
       " [9.513465804435977, 8.164954737002114],\n",
       " [0.44352910250128774, 4.039711257537801],\n",
       " [2.472558311670573, 9.902218486459123],\n",
       " [1.1936511923752535, 5.209196863297478],\n",
       " [1.1183927665192583, 8.0700110242765],\n",
       " [0.7370444179750892, 7.170162463432649],\n",
       " [1.1977650028672016, 1.518022089974742],\n",
       " [7.54581905645097, 2.987405329266405]]"
      ]
     },
     "execution_count": 5188,
     "metadata": {},
     "output_type": "execute_result"
    }
   ],
   "source": [
    "H"
   ]
  },
  {
   "cell_type": "code",
   "execution_count": 5189,
   "metadata": {},
   "outputs": [],
   "source": [
    "Hab = H"
   ]
  },
  {
   "cell_type": "code",
   "execution_count": 5190,
   "metadata": {},
   "outputs": [
    {
     "data": {
      "text/plain": [
       "[[6.885936632098549, 4.069836447905138],\n",
       " [7.044691075060115, 0.31624929909664923],\n",
       " [8.112965965663214, 0.022095201219645144],\n",
       " [3.880718175335982, 7.349680341309654],\n",
       " [0.11702276163506165, 7.359426847057808],\n",
       " [4.966244475597482, 8.187139447286775],\n",
       " [2.451335323105046, 1.581105745788124],\n",
       " [1.0430967628368313, 2.928105899649106],\n",
       " [5.0648098648176285, 0.7956656635804205],\n",
       " [9.70772668485493, 2.018977155128705],\n",
       " [4.41725033849563, 2.167055488193542],\n",
       " [0.5152869267709237, 0.08163661723181725],\n",
       " [8.00901561179491, 5.997131126544673],\n",
       " [0.9801925198633321, 1.4499414019672607],\n",
       " [1.3940911692173497, 0.6739370127206157],\n",
       " [6.716544763714629, 3.973531500221472],\n",
       " [5.716361894897291, 2.53508619131667],\n",
       " [9.230045781842634, 7.51604125808513],\n",
       " [6.808822351483556, 1.3287539837077278],\n",
       " [9.189432420272016, 5.867969737851693],\n",
       " [1.6206743845619231, 4.627487494956901],\n",
       " [0.2496252059553159, 7.742433564569414],\n",
       " [8.239357397914128, 8.408137535253218],\n",
       " [2.3621826930227465, 2.5692659907777493],\n",
       " [2.4779028117478905, 2.1259711132750936],\n",
       " [2.225675693878022, 9.465783932497416],\n",
       " [7.316819991682481, 4.315567623415958],\n",
       " [1.7475389307536726, 2.455345386714863],\n",
       " [9.442557875966934, 7.905076080194448],\n",
       " [4.652375149168452, 8.709634241604613],\n",
       " [7.565417423170343, 0.9936996220917027],\n",
       " [2.2967400120034265, 3.4183701323585014],\n",
       " [8.175660298365457, 5.393379883784427],\n",
       " [7.484048807657668, 7.598158546401645],\n",
       " [3.229167525703324, 3.3073800404943556],\n",
       " [3.630621839979841, 9.959894445923956],\n",
       " [2.8743244116813216, 2.870395822948838],\n",
       " [4.577829376521113, 7.951517847045983],\n",
       " [9.79404229576853, 6.143988778040246],\n",
       " [2.380699105714018, 1.0890316428870106],\n",
       " [7.119291653444023, 2.8481466575681447],\n",
       " [9.604804121394528, 2.60992986303905],\n",
       " [9.513465804435977, 8.164954737002114],\n",
       " [0.44352910250128774, 4.039711257537801],\n",
       " [2.472558311670573, 9.902218486459123],\n",
       " [1.1936511923752535, 5.209196863297478],\n",
       " [1.1183927665192583, 8.0700110242765],\n",
       " [0.7370444179750892, 7.170162463432649],\n",
       " [1.1977650028672016, 1.518022089974742],\n",
       " [7.54581905645097, 2.987405329266405]]"
      ]
     },
     "execution_count": 5190,
     "metadata": {},
     "output_type": "execute_result"
    }
   ],
   "source": [
    "Hab"
   ]
  },
  {
   "cell_type": "code",
   "execution_count": 5191,
   "metadata": {},
   "outputs": [
    {
     "data": {
      "text/plain": [
       "0.9"
      ]
     },
     "execution_count": 5191,
     "metadata": {},
     "output_type": "execute_result"
    }
   ],
   "source": [
    "OMEGA # STORE ALL THE HIGH AFFINITY CELLS."
   ]
  },
  {
   "cell_type": "code",
   "execution_count": 5192,
   "metadata": {},
   "outputs": [],
   "source": [
    "M = Hab[:int(OMEGA*len(Hab))]"
   ]
  },
  {
   "cell_type": "code",
   "execution_count": 5193,
   "metadata": {},
   "outputs": [
    {
     "data": {
      "text/plain": [
       "[[6.885936632098549, 4.069836447905138],\n",
       " [7.044691075060115, 0.31624929909664923],\n",
       " [8.112965965663214, 0.022095201219645144],\n",
       " [3.880718175335982, 7.349680341309654],\n",
       " [0.11702276163506165, 7.359426847057808],\n",
       " [4.966244475597482, 8.187139447286775],\n",
       " [2.451335323105046, 1.581105745788124],\n",
       " [1.0430967628368313, 2.928105899649106],\n",
       " [5.0648098648176285, 0.7956656635804205],\n",
       " [9.70772668485493, 2.018977155128705],\n",
       " [4.41725033849563, 2.167055488193542],\n",
       " [0.5152869267709237, 0.08163661723181725],\n",
       " [8.00901561179491, 5.997131126544673],\n",
       " [0.9801925198633321, 1.4499414019672607],\n",
       " [1.3940911692173497, 0.6739370127206157],\n",
       " [6.716544763714629, 3.973531500221472],\n",
       " [5.716361894897291, 2.53508619131667],\n",
       " [9.230045781842634, 7.51604125808513],\n",
       " [6.808822351483556, 1.3287539837077278],\n",
       " [9.189432420272016, 5.867969737851693],\n",
       " [1.6206743845619231, 4.627487494956901],\n",
       " [0.2496252059553159, 7.742433564569414],\n",
       " [8.239357397914128, 8.408137535253218],\n",
       " [2.3621826930227465, 2.5692659907777493],\n",
       " [2.4779028117478905, 2.1259711132750936],\n",
       " [2.225675693878022, 9.465783932497416],\n",
       " [7.316819991682481, 4.315567623415958],\n",
       " [1.7475389307536726, 2.455345386714863],\n",
       " [9.442557875966934, 7.905076080194448],\n",
       " [4.652375149168452, 8.709634241604613],\n",
       " [7.565417423170343, 0.9936996220917027],\n",
       " [2.2967400120034265, 3.4183701323585014],\n",
       " [8.175660298365457, 5.393379883784427],\n",
       " [7.484048807657668, 7.598158546401645],\n",
       " [3.229167525703324, 3.3073800404943556],\n",
       " [3.630621839979841, 9.959894445923956],\n",
       " [2.8743244116813216, 2.870395822948838],\n",
       " [4.577829376521113, 7.951517847045983],\n",
       " [9.79404229576853, 6.143988778040246],\n",
       " [2.380699105714018, 1.0890316428870106],\n",
       " [7.119291653444023, 2.8481466575681447],\n",
       " [9.604804121394528, 2.60992986303905],\n",
       " [9.513465804435977, 8.164954737002114],\n",
       " [0.44352910250128774, 4.039711257537801],\n",
       " [2.472558311670573, 9.902218486459123]]"
      ]
     },
     "execution_count": 5193,
     "metadata": {},
     "output_type": "execute_result"
    }
   ],
   "source": [
    "M"
   ]
  },
  {
   "cell_type": "code",
   "execution_count": 5194,
   "metadata": {},
   "outputs": [],
   "source": [
    "M = np.array(M)"
   ]
  },
  {
   "cell_type": "code",
   "execution_count": 5195,
   "metadata": {},
   "outputs": [
    {
     "data": {
      "text/plain": [
       "array([[6.88593663, 4.06983645],\n",
       "       [7.04469108, 0.3162493 ],\n",
       "       [8.11296597, 0.0220952 ],\n",
       "       [3.88071818, 7.34968034],\n",
       "       [0.11702276, 7.35942685],\n",
       "       [4.96624448, 8.18713945],\n",
       "       [2.45133532, 1.58110575],\n",
       "       [1.04309676, 2.9281059 ],\n",
       "       [5.06480986, 0.79566566],\n",
       "       [9.70772668, 2.01897716],\n",
       "       [4.41725034, 2.16705549],\n",
       "       [0.51528693, 0.08163662],\n",
       "       [8.00901561, 5.99713113],\n",
       "       [0.98019252, 1.4499414 ],\n",
       "       [1.39409117, 0.67393701],\n",
       "       [6.71654476, 3.9735315 ],\n",
       "       [5.71636189, 2.53508619],\n",
       "       [9.23004578, 7.51604126],\n",
       "       [6.80882235, 1.32875398],\n",
       "       [9.18943242, 5.86796974],\n",
       "       [1.62067438, 4.62748749],\n",
       "       [0.24962521, 7.74243356],\n",
       "       [8.2393574 , 8.40813754],\n",
       "       [2.36218269, 2.56926599],\n",
       "       [2.47790281, 2.12597111],\n",
       "       [2.22567569, 9.46578393],\n",
       "       [7.31681999, 4.31556762],\n",
       "       [1.74753893, 2.45534539],\n",
       "       [9.44255788, 7.90507608],\n",
       "       [4.65237515, 8.70963424],\n",
       "       [7.56541742, 0.99369962],\n",
       "       [2.29674001, 3.41837013],\n",
       "       [8.1756603 , 5.39337988],\n",
       "       [7.48404881, 7.59815855],\n",
       "       [3.22916753, 3.30738004],\n",
       "       [3.63062184, 9.95989445],\n",
       "       [2.87432441, 2.87039582],\n",
       "       [4.57782938, 7.95151785],\n",
       "       [9.7940423 , 6.14398878],\n",
       "       [2.38069911, 1.08903164],\n",
       "       [7.11929165, 2.84814666],\n",
       "       [9.60480412, 2.60992986],\n",
       "       [9.5134658 , 8.16495474],\n",
       "       [0.4435291 , 4.03971126],\n",
       "       [2.47255831, 9.90221849]])"
      ]
     },
     "execution_count": 5195,
     "metadata": {},
     "output_type": "execute_result"
    }
   ],
   "source": [
    "M"
   ]
  },
  {
   "cell_type": "code",
   "execution_count": 5196,
   "metadata": {},
   "outputs": [],
   "source": [
    "# Clonal suppression. \n",
    "S = np.array([[np.linalg.norm(np.array(mx)-np.array(my)) for mx in M] for my in M])"
   ]
  },
  {
   "cell_type": "code",
   "execution_count": 5197,
   "metadata": {},
   "outputs": [
    {
     "data": {
      "text/plain": [
       "array([[ 0.        ,  3.75694283,  4.22963476, ...,  4.86558356,\n",
       "         6.44247796,  7.31399948],\n",
       "       [ 3.75694283,  0.        ,  1.10803334, ...,  8.22782023,\n",
       "         7.57888569, 10.62050862],\n",
       "       [ 4.22963476,  1.10803334,  0.        , ...,  8.26241861,\n",
       "         8.65803099, 11.37677611],\n",
       "       ...,\n",
       "       [ 4.86558356,  8.22782023,  8.26241861, ...,  0.        ,\n",
       "         9.96400449,  7.25206616],\n",
       "       [ 6.44247796,  7.57888569,  8.65803099, ...,  9.96400449,\n",
       "         0.        ,  6.20370458],\n",
       "       [ 7.31399948, 10.62050862, 11.37677611, ...,  7.25206616,\n",
       "         6.20370458,  0.        ]])"
      ]
     },
     "execution_count": 5197,
     "metadata": {},
     "output_type": "execute_result"
    }
   ],
   "source": [
    "S"
   ]
  },
  {
   "cell_type": "code",
   "execution_count": 5198,
   "metadata": {},
   "outputs": [],
   "source": [
    "S=normalize_2D(S)"
   ]
  },
  {
   "cell_type": "code",
   "execution_count": 5199,
   "metadata": {},
   "outputs": [
    {
     "data": {
      "text/plain": [
       "array([[0.        , 0.31060015, 0.34967931, ..., 0.40225551, 0.53262312,\n",
       "        0.60467497],\n",
       "       [0.31060015, 0.        , 0.09160515, ..., 0.68022386, 0.62657408,\n",
       "        0.87803613],\n",
       "       [0.34967931, 0.09160515, 0.        , ..., 0.68308424, 0.71579095,\n",
       "        0.94055951],\n",
       "       ...,\n",
       "       [0.40225551, 0.68022386, 0.68308424, ..., 0.        , 0.82376054,\n",
       "        0.59955472],\n",
       "       [0.53262312, 0.62657408, 0.71579095, ..., 0.82376054, 0.        ,\n",
       "        0.51288285],\n",
       "       [0.60467497, 0.87803613, 0.94055951, ..., 0.59955472, 0.51288285,\n",
       "        0.        ]])"
      ]
     },
     "execution_count": 5199,
     "metadata": {},
     "output_type": "execute_result"
    }
   ],
   "source": [
    "S"
   ]
  },
  {
   "cell_type": "code",
   "execution_count": 5200,
   "metadata": {},
   "outputs": [],
   "source": [
    "S=[[S[i][j] if j >= i+1 else 0 for j in range(S.shape[1])] for i in range(S.shape[0]-1)]"
   ]
  },
  {
   "cell_type": "code",
   "execution_count": 5201,
   "metadata": {},
   "outputs": [],
   "source": [
    "S=np.array(S)"
   ]
  },
  {
   "cell_type": "code",
   "execution_count": 5202,
   "metadata": {},
   "outputs": [
    {
     "data": {
      "text/plain": [
       "array([ 4, 11, 13, 14, 21, 25, 35, 43, 44,  3,  4,  5,  7, 11, 13, 17, 20,\n",
       "       21, 22, 25, 28, 29, 33, 35, 37, 38, 42, 43, 44,  3,  4,  5,  7, 11,\n",
       "       13, 14, 17, 20, 21, 22, 23, 25, 27, 28, 29, 31, 33, 35, 37, 38, 42,\n",
       "       43, 44,  8,  9, 11, 13, 14, 18, 30, 39, 41,  6,  8,  9, 10, 11, 12,\n",
       "       14, 15, 16, 17, 18, 19, 22, 26, 28, 30, 32, 33, 38, 39, 40, 41, 42,\n",
       "        6,  7,  8,  9, 11, 13, 14, 18, 23, 24, 27, 30, 39, 41, 43,  9, 12,\n",
       "       17, 19, 21, 22, 25, 28, 29, 32, 33, 35, 37, 38, 41, 42, 44,  9, 12,\n",
       "       17, 19, 22, 25, 26, 28, 29, 30, 32, 33, 35, 37, 38, 40, 41, 42, 44,\n",
       "       17, 19, 21, 22, 25, 28, 29, 33, 35, 37, 38, 42, 44, 11, 13, 14, 20,\n",
       "       21, 22, 23, 24, 25, 27, 29, 31, 34, 35, 36, 37, 39, 42, 43, 44, 17,\n",
       "       21, 22, 25, 28, 29, 33, 35, 38, 42, 44, 12, 15, 17, 18, 19, 21, 22,\n",
       "       25, 26, 28, 29, 30, 32, 33, 35, 37, 38, 40, 41, 42, 44, 13, 14, 20,\n",
       "       21, 23, 24, 25, 27, 31, 39, 43, 44, 15, 17, 19, 21, 22, 25, 26, 28,\n",
       "       29, 30, 32, 33, 35, 37, 38, 40, 41, 42, 44, 15, 17, 19, 21, 22, 25,\n",
       "       26, 28, 29, 30, 32, 33, 35, 37, 38, 40, 41, 42, 44, 21, 25, 35, 43,\n",
       "       44, 17, 21, 22, 25, 28, 29, 35, 42, 44, 18, 20, 21, 23, 24, 25, 27,\n",
       "       30, 31, 34, 35, 36, 39, 43, 44, 20, 21, 22, 25, 28, 29, 33, 35, 37,\n",
       "       42, 43, 44, 20, 21, 23, 24, 25, 27, 31, 34, 35, 36, 39, 43, 44, 22,\n",
       "       28, 30, 32, 33, 38, 41, 42, 22, 26, 28, 30, 32, 33, 38, 39, 40, 41,\n",
       "       42, 23, 24, 25, 27, 30, 31, 34, 36, 39, 43, 25, 28, 29, 32, 33, 35,\n",
       "       38, 41, 42, 44, 25, 28, 29, 32, 33, 35, 37, 38, 41, 42, 44, 26, 27,\n",
       "       28, 30, 32, 34, 36, 38, 39, 40, 41, 42, 35, 43, 44, 28, 29, 32, 33,\n",
       "       35, 37, 38, 41, 42, 44, 30, 31, 34, 35, 36, 39, 43, 44, 30, 36, 39,\n",
       "       40, 41, 43, 33, 35, 37, 42, 43, 44, 32, 33, 35, 38, 41, 42, 44, 35,\n",
       "       39, 43, 44, 36, 39, 43, 35, 38, 41, 42, 44, 36, 38, 39, 40, 41, 42,\n",
       "       43, 38, 41, 42, 44, 39, 41, 39, 43, 44, 41, 42, 44, 43, 44, 43, 44,\n",
       "       43, 44, 44])"
      ]
     },
     "execution_count": 5202,
     "metadata": {},
     "output_type": "execute_result"
    }
   ],
   "source": [
    "np.argwhere(S>M_threshold)[:,1]"
   ]
  },
  {
   "cell_type": "code",
   "execution_count": 5203,
   "metadata": {},
   "outputs": [],
   "source": [
    "Mp=M[np.argwhere(S>M_threshold)[:,1]]"
   ]
  },
  {
   "cell_type": "code",
   "execution_count": 5204,
   "metadata": {},
   "outputs": [],
   "source": [
    "Mp=np.array(list(set([tuple(mp) for mp in Mp])))"
   ]
  },
  {
   "cell_type": "code",
   "execution_count": 5205,
   "metadata": {},
   "outputs": [],
   "source": [
    "S = np.array([[np.linalg.norm(np.array(m)-np.array(ab)) for ab in AB] for m in M])"
   ]
  },
  {
   "cell_type": "code",
   "execution_count": 5206,
   "metadata": {},
   "outputs": [],
   "source": [
    "S=normalize_2D(S)"
   ]
  },
  {
   "cell_type": "code",
   "execution_count": 5207,
   "metadata": {},
   "outputs": [],
   "source": [
    "AB=AB[np.argwhere(S>M_threshold)[:,1]]"
   ]
  },
  {
   "cell_type": "code",
   "execution_count": 5208,
   "metadata": {},
   "outputs": [],
   "source": [
    "AB=np.array(list(set([tuple(ab) for ab in AB])))"
   ]
  },
  {
   "cell_type": "code",
   "execution_count": 5209,
   "metadata": {},
   "outputs": [],
   "source": [
    "AB=np.append(AB,Mp,axis=0)"
   ]
  },
  {
   "cell_type": "code",
   "execution_count": 5210,
   "metadata": {},
   "outputs": [
    {
     "data": {
      "text/plain": [
       "(47, 2)"
      ]
     },
     "execution_count": 5210,
     "metadata": {},
     "output_type": "execute_result"
    }
   ],
   "source": [
    "AB.shape"
   ]
  },
  {
   "cell_type": "code",
   "execution_count": 5211,
   "metadata": {},
   "outputs": [
    {
     "data": {
      "text/plain": [
       "(42, 2)"
      ]
     },
     "execution_count": 5211,
     "metadata": {},
     "output_type": "execute_result"
    }
   ],
   "source": [
    "Mp.shape"
   ]
  },
  {
   "cell_type": "code",
   "execution_count": 5212,
   "metadata": {},
   "outputs": [],
   "source": [
    "with open(\"ais.txt\", \"w+\") as of: \n",
    "    of.write(np.array2string(AB, separator=',') + \"\\n\")\n",
    "    of.close()"
   ]
  },
  {
   "cell_type": "code",
   "execution_count": 5213,
   "metadata": {},
   "outputs": [
    {
     "name": "stdout",
     "output_type": "stream",
     "text": [
      "[]\n"
     ]
    }
   ],
   "source": [
    "print (AB_lengths)"
   ]
  },
  {
   "cell_type": "code",
   "execution_count": 5214,
   "metadata": {},
   "outputs": [
    {
     "data": {
      "image/png": "[encoded data removed]",
      "text/plain": [
       "<Figure size 432x288 with 1 Axes>"
      ]
     },
     "metadata": {
      "needs_background": "light"
     },
     "output_type": "display_data"
    },
    {
     "data": {
      "image/png": "[encoded data removed]",
      "text/plain": [
       "<Figure size 432x288 with 1 Axes>"
      ]
     },
     "metadata": {
      "needs_background": "light"
     },
     "output_type": "display_data"
    }
   ],
   "source": [
    "import matplotlib.pyplot as plt\n",
    "from mpl_toolkits.mplot3d import Axes3D\n",
    "\n",
    "plt.scatter(AB[:,0], AB[:,1])\n",
    "plt.savefig(\"AB.png\")\n",
    "plt.show()\n",
    "\n",
    "plt.close()\n",
    "\n",
    "plt.scatter(AG[:,0], AG[:,1])\n",
    "plt.savefig(\"AG.png\")\n",
    "plt.show()\n",
    "\n",
    "plt.close()"
   ]
  },
  {
   "cell_type": "code",
   "execution_count": null,
   "metadata": {},
   "outputs": [],
   "source": []
  }
 ],
 "metadata": {
  "kernelspec": {
   "display_name": "Python 3",
   "language": "python",
   "name": "python3"
  },
  "language_info": {
   "codemirror_mode": {
    "name": "ipython",
    "version": 3
   },
   "file_extension": ".py",
   "mimetype": "text/x-python",
   "name": "python",
   "nbconvert_exporter": "python",
   "pygments_lexer": "ipython3",
   "version": "3.7.3"
  }
 },
 "nbformat": 4,
 "nbformat_minor": 2
}
