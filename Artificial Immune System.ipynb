{
 "cells": [
  {
   "cell_type": "code",
   "execution_count": 5518,
   "metadata": {},
   "outputs": [],
   "source": [
    "AB_lengths = []"
   ]
  },
  {
   "cell_type": "code",
   "execution_count": 5519,
   "metadata": {},
   "outputs": [],
   "source": [
    "import numpy as np"
   ]
  },
  {
   "cell_type": "code",
   "execution_count": 5520,
   "metadata": {},
   "outputs": [],
   "source": [
    "import math"
   ]
  },
  {
   "cell_type": "code",
   "execution_count": 5521,
   "metadata": {},
   "outputs": [],
   "source": [
    "def normalize(data): \n",
    "    min_data = min(data) \n",
    "    max_data = max(data)\n",
    "    data = np.array([( (d-min_data) / (max_data-min_data) ) for d in data])\n",
    "    return data"
   ]
  },
  {
   "cell_type": "code",
   "execution_count": 5522,
   "metadata": {},
   "outputs": [],
   "source": [
    "def normalize_2D(matrix): \n",
    "    min_matrix = matrix.min() \n",
    "    max_matrix = matrix.max()\n",
    "    matrix = (matrix-min_matrix) / (max_matrix-min_matrix)\n",
    "    return matrix\n",
    "    #matrix = np.array([[( (y-min_data) / (max_data-min_data) ) for y in x] for x in matrix])"
   ]
  },
  {
   "cell_type": "code",
   "execution_count": 5523,
   "metadata": {},
   "outputs": [],
   "source": [
    "from sklearn.datasets.samples_generator import make_blobs"
   ]
  },
  {
   "cell_type": "code",
   "execution_count": 5524,
   "metadata": {},
   "outputs": [],
   "source": [
    "AG, y = make_blobs(n_samples=20, centers=3, n_features=2, random_state=0)"
   ]
  },
  {
   "cell_type": "code",
   "execution_count": 5525,
   "metadata": {},
   "outputs": [
    {
     "data": {
      "text/plain": [
       "array([[ 1.12031365,  5.75806083],\n",
       "       [-1.91423083,  2.61557951],\n",
       "       [ 1.28933778,  3.44969159],\n",
       "       [ 2.21021495,  1.27582618],\n",
       "       [ 4.32502215, -0.55670201],\n",
       "       [-2.57545698,  1.49786432],\n",
       "       [-3.2331742 ,  4.86865766],\n",
       "       [ 1.16748177, -1.08313281],\n",
       "       [ 0.87305123,  4.71438583],\n",
       "       [ 1.9263585 ,  4.15243012],\n",
       "       [ 3.58804674,  2.36702243],\n",
       "       [ 2.47034915,  4.09862906],\n",
       "       [-0.49772229,  1.55128226],\n",
       "       [ 2.10102604,  0.71047981],\n",
       "       [ 1.7373078 ,  4.42546234],\n",
       "       [-2.03655619,  2.47980796],\n",
       "       [-0.29661333,  4.12026211],\n",
       "       [-1.87481616,  3.07423123],\n",
       "       [ 2.91970372,  0.15549864],\n",
       "       [ 1.42013331,  4.63746165]])"
      ]
     },
     "execution_count": 5525,
     "metadata": {},
     "output_type": "execute_result"
    }
   ],
   "source": [
    "AG"
   ]
  },
  {
   "cell_type": "code",
   "execution_count": 5526,
   "metadata": {},
   "outputs": [],
   "source": [
    "p_select, n_clones, learn_rate, OMEGA, M_threshold = 0.9, 100, 1, 0.5, 0.9"
   ]
  },
  {
   "cell_type": "code",
   "execution_count": 5527,
   "metadata": {},
   "outputs": [],
   "source": [
    "AB = np.random.rand(10,2)*10"
   ]
  },
  {
   "cell_type": "code",
   "execution_count": 5528,
   "metadata": {},
   "outputs": [
    {
     "data": {
      "image/png": "[encoded data removed]",
      "text/plain": [
       "<Figure size 432x288 with 1 Axes>"
      ]
     },
     "metadata": {
      "needs_background": "light"
     },
     "output_type": "display_data"
    },
    {
     "data": {
      "image/png": "[encoded data removed]",
      "text/plain": [
       "<Figure size 432x288 with 1 Axes>"
      ]
     },
     "metadata": {
      "needs_background": "light"
     },
     "output_type": "display_data"
    }
   ],
   "source": [
    "import matplotlib.pyplot as plt\n",
    "from mpl_toolkits.mplot3d import Axes3D\n",
    "\n",
    "plt.scatter(AB[:,0], AB[:,1])\n",
    "plt.savefig(\"AB.png\")\n",
    "plt.show()\n",
    "\n",
    "plt.close()\n",
    "\n",
    "plt.scatter(AG[:,0], AG[:,1])\n",
    "plt.savefig(\"AG.png\")\n",
    "plt.show()\n",
    "\n",
    "plt.close()"
   ]
  },
  {
   "cell_type": "code",
   "execution_count": 5529,
   "metadata": {},
   "outputs": [
    {
     "data": {
      "text/plain": [
       "array([[ 1.12031365,  5.75806083],\n",
       "       [-1.91423083,  2.61557951],\n",
       "       [ 1.28933778,  3.44969159],\n",
       "       [ 2.21021495,  1.27582618],\n",
       "       [ 4.32502215, -0.55670201],\n",
       "       [-2.57545698,  1.49786432],\n",
       "       [-3.2331742 ,  4.86865766],\n",
       "       [ 1.16748177, -1.08313281],\n",
       "       [ 0.87305123,  4.71438583],\n",
       "       [ 1.9263585 ,  4.15243012],\n",
       "       [ 3.58804674,  2.36702243],\n",
       "       [ 2.47034915,  4.09862906],\n",
       "       [-0.49772229,  1.55128226],\n",
       "       [ 2.10102604,  0.71047981],\n",
       "       [ 1.7373078 ,  4.42546234],\n",
       "       [-2.03655619,  2.47980796],\n",
       "       [-0.29661333,  4.12026211],\n",
       "       [-1.87481616,  3.07423123],\n",
       "       [ 2.91970372,  0.15549864],\n",
       "       [ 1.42013331,  4.63746165]])"
      ]
     },
     "execution_count": 5529,
     "metadata": {},
     "output_type": "execute_result"
    }
   ],
   "source": [
    "AG"
   ]
  },
  {
   "cell_type": "code",
   "execution_count": 5530,
   "metadata": {},
   "outputs": [
    {
     "data": {
      "text/plain": [
       "array([[8.68792138, 2.58603621],\n",
       "       [9.87951241, 4.53333959],\n",
       "       [5.84756811, 0.26332996],\n",
       "       [2.55662937, 2.81998777],\n",
       "       [7.96328362, 4.38809686],\n",
       "       [9.27478349, 2.65584731],\n",
       "       [3.38024387, 0.89376625],\n",
       "       [8.59356123, 7.63605948],\n",
       "       [0.917841  , 5.99977047],\n",
       "       [0.09234968, 7.82976379]])"
      ]
     },
     "execution_count": 5530,
     "metadata": {},
     "output_type": "execute_result"
    }
   ],
   "source": [
    "AB"
   ]
  },
  {
   "cell_type": "code",
   "execution_count": 5531,
   "metadata": {},
   "outputs": [],
   "source": [
    "D = [[np.linalg.norm(ag-ab) for ab in AB] for ag in AG]"
   ]
  },
  {
   "cell_type": "code",
   "execution_count": 5532,
   "metadata": {},
   "outputs": [
    {
     "data": {
      "text/plain": [
       "[[8.205511989754482,\n",
       "  8.844405297993331,\n",
       "  7.248379275466917,\n",
       "  3.2703633091459654,\n",
       "  6.978756284401678,\n",
       "  8.724626476310094,\n",
       "  5.36364115203737,\n",
       "  7.705602396924236,\n",
       "  0.31530734330741284,\n",
       "  2.3127176815924546],\n",
       " [10.602193374480546,\n",
       "  11.948647762625535,\n",
       "  8.110400773125889,\n",
       "  4.475530546504769,\n",
       "  10.035293189571194,\n",
       "  11.189086781801167,\n",
       "  5.567414417233181,\n",
       "  11.645553362107542,\n",
       "  4.412865205420326,\n",
       "  5.586956510427269],\n",
       " [7.448821378480704,\n",
       "  8.658255781078196,\n",
       "  5.561507363483687,\n",
       "  1.4151165574876916,\n",
       "  6.739596240017973,\n",
       "  8.02480728449967,\n",
       "  3.302217833309043,\n",
       "  8.418869064980726,\n",
       "  2.57699673274345,\n",
       "  4.540684202986486],\n",
       " [6.608882733171348,\n",
       "  8.33243764950312,\n",
       "  3.7756438662978886,\n",
       "  1.5825416183185441,\n",
       "  6.54095007476496,\n",
       "  7.198096071345815,\n",
       "  1.2308279641493565,\n",
       "  9.011086361791932,\n",
       "  4.897538164578746,\n",
       "  6.887630327802715],\n",
       " [5.37695948421899,\n",
       "  7.533982055179672,\n",
       "  1.7293347376837713,\n",
       "  3.811724926756523,\n",
       "  6.139053868602241,\n",
       "  5.900899131825788,\n",
       "  1.7310298014795167,\n",
       "  9.238060773578743,\n",
       "  7.388925143967597,\n",
       "  9.394057959992297],\n",
       " [11.315821231467499,\n",
       "  12.819530902230989,\n",
       "  8.513015134302504,\n",
       "  5.299652884674404,\n",
       "  10.927877077459751,\n",
       "  11.906683997077886,\n",
       "  5.986259860523155,\n",
       "  12.744583457732515,\n",
       "  5.698270767033295,\n",
       "  6.870963776432351],\n",
       " [12.137663722555606,\n",
       "  13.116973296708686,\n",
       "  10.181793757867542,\n",
       "  6.141569321089166,\n",
       "  11.206766099899381,\n",
       "  12.702186242785872,\n",
       "  7.716026201976767,\n",
       "  12.146200387699631,\n",
       "  4.3023648665170695,\n",
       "  4.452780998771299],\n",
       " [8.367784245744438,\n",
       "  10.365531340941164,\n",
       "  4.869925056139281,\n",
       "  4.142955624036268,\n",
       "  8.724521575743177,\n",
       "  8.927951248185868,\n",
       "  2.967228673633521,\n",
       "  11.452989578085434,\n",
       "  7.087301275375158,\n",
       "  8.977507161428168],\n",
       " [8.099510334015145,\n",
       "  9.008280679734352,\n",
       "  6.675156670085725,\n",
       "  2.5343992124543826,\n",
       "  7.0977362477341535,\n",
       "  8.65024195543911,\n",
       "  4.5698084126661085,\n",
       "  8.25484413093263,\n",
       "  1.2861647635861324,\n",
       "  3.211709009298345],\n",
       " [6.940628396843244,\n",
       "  7.962270355619267,\n",
       "  5.522769675102975,\n",
       "  1.4739891402016447,\n",
       "  6.041523295200315,\n",
       "  7.499273966329482,\n",
       "  3.56828710930346,\n",
       "  7.522450785467771,\n",
       "  2.1047028072330116,\n",
       "  4.109303017768613],\n",
       " [5.104575246221745,\n",
       "  6.653981542166853,\n",
       "  3.087225104691526,\n",
       "  1.1264987272210376,\n",
       "  4.819485408287376,\n",
       "  5.694066626610719,\n",
       "  1.4878393049003684,\n",
       "  7.267594292611501,\n",
       "  4.508531577005611,\n",
       "  6.485479251415861],\n",
       " [6.398917219639674,\n",
       "  7.421904973837432,\n",
       "  5.110296186217123,\n",
       "  1.2815489967003628,\n",
       "  5.500556393916219,\n",
       "  6.955713182474537,\n",
       "  3.3315242834210426,\n",
       "  7.071572675755149,\n",
       "  2.454510175111581,\n",
       "  4.4245053808480534],\n",
       " [9.243741964062021,\n",
       "  10.797206400457952,\n",
       "  6.474683883482349,\n",
       "  3.3073671972139804,\n",
       "  8.923908230602143,\n",
       "  9.834730973011128,\n",
       "  3.9333127125955807,\n",
       "  10.939650360144842,\n",
       "  4.668283072713188,\n",
       "  6.306149009961645],\n",
       " [6.84871535931633,\n",
       "  8.667127962108093,\n",
       "  3.7731313856935786,\n",
       "  2.1581469445880943,\n",
       "  6.920327380100804,\n",
       "  7.432849434592929,\n",
       "  1.292281775926088,\n",
       "  9.492979879656563,\n",
       "  5.420011302447464,\n",
       "  7.397228206946655],\n",
       " [7.189889958938118,\n",
       "  8.142919216473786,\n",
       "  5.849579965066583,\n",
       "  1.8024528934543806,\n",
       "  6.226087937683507,\n",
       "  7.742420623803571,\n",
       "  3.8951400771144935,\n",
       "  7.570742699010438,\n",
       "  1.7748160226120162,\n",
       "  3.78089349090365],\n",
       " [10.7250036710264,\n",
       "  12.091719611454439,\n",
       "  8.189761335617431,\n",
       "  4.6057655108205,\n",
       "  10.180292862927784,\n",
       "  11.31270946194861,\n",
       "  5.6442228236284215,\n",
       "  11.814665725621605,\n",
       "  4.595497674787802,\n",
       "  5.7579742632229935],\n",
       " [9.114587931075777,\n",
       "  10.184506279041399,\n",
       "  7.254439412583952,\n",
       "  3.1355553379214087,\n",
       "  8.264238202477474,\n",
       "  9.682775835268826,\n",
       "  4.891784382038008,\n",
       "  9.560127347101398,\n",
       "  2.2377334534876185,\n",
       "  3.729838461626726],\n",
       " [10.574013373218827,\n",
       "  11.844544626438793,\n",
       "  8.218052370602573,\n",
       "  4.438732842452525,\n",
       "  9.925444582143843,\n",
       "  11.157446731352513,\n",
       "  5.6894712854378975,\n",
       "  11.41915943525369,\n",
       "  4.0444670709513675,\n",
       "  5.14634155313382],\n",
       " [6.259380789922476,\n",
       "  8.222191214295101,\n",
       "  2.929849390998139,\n",
       "  2.6891123659047107,\n",
       "  6.584268055909162,\n",
       "  6.829259285534491,\n",
       "  0.870135793593545,\n",
       "  9.388900337761966,\n",
       "  6.177618276537876,\n",
       "  8.17852532669062],\n",
       " [7.551760708684102,\n",
       "  8.460019867419703,\n",
       "  6.223761481635742,\n",
       "  2.1435565328797064,\n",
       "  6.5479003296033,\n",
       "  8.10076075859422,\n",
       "  4.225788528847564,\n",
       "  7.774937750165397,\n",
       "  1.4519582885382687,\n",
       "  3.4574271237258265]]"
      ]
     },
     "execution_count": 5532,
     "metadata": {},
     "output_type": "execute_result"
    }
   ],
   "source": [
    "D"
   ]
  },
  {
   "cell_type": "code",
   "execution_count": 5533,
   "metadata": {},
   "outputs": [],
   "source": [
    "D=np.array(D)"
   ]
  },
  {
   "cell_type": "code",
   "execution_count": 5534,
   "metadata": {},
   "outputs": [
    {
     "data": {
      "text/plain": [
       "array([[ 8.20551199,  8.8444053 ,  7.24837928,  3.27036331,  6.97875628,\n",
       "         8.72462648,  5.36364115,  7.7056024 ,  0.31530734,  2.31271768],\n",
       "       [10.60219337, 11.94864776,  8.11040077,  4.47553055, 10.03529319,\n",
       "        11.18908678,  5.56741442, 11.64555336,  4.41286521,  5.58695651],\n",
       "       [ 7.44882138,  8.65825578,  5.56150736,  1.41511656,  6.73959624,\n",
       "         8.02480728,  3.30221783,  8.41886906,  2.57699673,  4.5406842 ],\n",
       "       [ 6.60888273,  8.33243765,  3.77564387,  1.58254162,  6.54095007,\n",
       "         7.19809607,  1.23082796,  9.01108636,  4.89753816,  6.88763033],\n",
       "       [ 5.37695948,  7.53398206,  1.72933474,  3.81172493,  6.13905387,\n",
       "         5.90089913,  1.7310298 ,  9.23806077,  7.38892514,  9.39405796],\n",
       "       [11.31582123, 12.8195309 ,  8.51301513,  5.29965288, 10.92787708,\n",
       "        11.906684  ,  5.98625986, 12.74458346,  5.69827077,  6.87096378],\n",
       "       [12.13766372, 13.1169733 , 10.18179376,  6.14156932, 11.2067661 ,\n",
       "        12.70218624,  7.7160262 , 12.14620039,  4.30236487,  4.452781  ],\n",
       "       [ 8.36778425, 10.36553134,  4.86992506,  4.14295562,  8.72452158,\n",
       "         8.92795125,  2.96722867, 11.45298958,  7.08730128,  8.97750716],\n",
       "       [ 8.09951033,  9.00828068,  6.67515667,  2.53439921,  7.09773625,\n",
       "         8.65024196,  4.56980841,  8.25484413,  1.28616476,  3.21170901],\n",
       "       [ 6.9406284 ,  7.96227036,  5.52276968,  1.47398914,  6.0415233 ,\n",
       "         7.49927397,  3.56828711,  7.52245079,  2.10470281,  4.10930302],\n",
       "       [ 5.10457525,  6.65398154,  3.0872251 ,  1.12649873,  4.81948541,\n",
       "         5.69406663,  1.4878393 ,  7.26759429,  4.50853158,  6.48547925],\n",
       "       [ 6.39891722,  7.42190497,  5.11029619,  1.281549  ,  5.50055639,\n",
       "         6.95571318,  3.33152428,  7.07157268,  2.45451018,  4.42450538],\n",
       "       [ 9.24374196, 10.7972064 ,  6.47468388,  3.3073672 ,  8.92390823,\n",
       "         9.83473097,  3.93331271, 10.93965036,  4.66828307,  6.30614901],\n",
       "       [ 6.84871536,  8.66712796,  3.77313139,  2.15814694,  6.92032738,\n",
       "         7.43284943,  1.29228178,  9.49297988,  5.4200113 ,  7.39722821],\n",
       "       [ 7.18988996,  8.14291922,  5.84957997,  1.80245289,  6.22608794,\n",
       "         7.74242062,  3.89514008,  7.5707427 ,  1.77481602,  3.78089349],\n",
       "       [10.72500367, 12.09171961,  8.18976134,  4.60576551, 10.18029286,\n",
       "        11.31270946,  5.64422282, 11.81466573,  4.59549767,  5.75797426],\n",
       "       [ 9.11458793, 10.18450628,  7.25443941,  3.13555534,  8.2642382 ,\n",
       "         9.68277584,  4.89178438,  9.56012735,  2.23773345,  3.72983846],\n",
       "       [10.57401337, 11.84454463,  8.21805237,  4.43873284,  9.92544458,\n",
       "        11.15744673,  5.68947129, 11.41915944,  4.04446707,  5.14634155],\n",
       "       [ 6.25938079,  8.22219121,  2.92984939,  2.68911237,  6.58426806,\n",
       "         6.82925929,  0.87013579,  9.38890034,  6.17761828,  8.17852533],\n",
       "       [ 7.55176071,  8.46001987,  6.22376148,  2.14355653,  6.54790033,\n",
       "         8.10076076,  4.22578853,  7.77493775,  1.45195829,  3.45742712]])"
      ]
     },
     "execution_count": 5534,
     "metadata": {},
     "output_type": "execute_result"
    }
   ],
   "source": [
    "D"
   ]
  },
  {
   "cell_type": "code",
   "execution_count": 5535,
   "metadata": {},
   "outputs": [],
   "source": [
    "# Select the n highest affinity cells. \n",
    "# The cells with the least distance are first in the argsorted lists. \n",
    "H = [list(AB[d[0]]) for d in D.argsort()]"
   ]
  },
  {
   "cell_type": "code",
   "execution_count": 5536,
   "metadata": {},
   "outputs": [
    {
     "data": {
      "text/plain": [
       "[[0.917841002978641, 5.999770470276882],\n",
       " [0.917841002978641, 5.999770470276882],\n",
       " [2.556629370244108, 2.819987771203578],\n",
       " [3.380243873506006, 0.8937662512893463],\n",
       " [5.847568106005285, 0.26332995597611375],\n",
       " [2.556629370244108, 2.819987771203578],\n",
       " [0.917841002978641, 5.999770470276882],\n",
       " [3.380243873506006, 0.8937662512893463],\n",
       " [0.917841002978641, 5.999770470276882],\n",
       " [2.556629370244108, 2.819987771203578],\n",
       " [2.556629370244108, 2.819987771203578],\n",
       " [2.556629370244108, 2.819987771203578],\n",
       " [2.556629370244108, 2.819987771203578],\n",
       " [3.380243873506006, 0.8937662512893463],\n",
       " [0.917841002978641, 5.999770470276882],\n",
       " [0.917841002978641, 5.999770470276882],\n",
       " [0.917841002978641, 5.999770470276882],\n",
       " [0.917841002978641, 5.999770470276882],\n",
       " [3.380243873506006, 0.8937662512893463],\n",
       " [0.917841002978641, 5.999770470276882]]"
      ]
     },
     "execution_count": 5536,
     "metadata": {},
     "output_type": "execute_result"
    }
   ],
   "source": [
    "H"
   ]
  },
  {
   "cell_type": "code",
   "execution_count": 5537,
   "metadata": {},
   "outputs": [],
   "source": [
    "# Store the affinity values of the highest affinity cells. \n",
    "# H and HD map directly to one another. \n",
    "# So, the affinity of the first cell in H is the first value in HD. \n",
    "HD = [D[i][d[0]] for (i,d) in enumerate(D.argsort())]"
   ]
  },
  {
   "cell_type": "code",
   "execution_count": 5538,
   "metadata": {},
   "outputs": [
    {
     "data": {
      "text/plain": [
       "[0.31530734330741284,\n",
       " 4.412865205420326,\n",
       " 1.4151165574876916,\n",
       " 1.2308279641493565,\n",
       " 1.7293347376837713,\n",
       " 5.299652884674404,\n",
       " 4.3023648665170695,\n",
       " 2.967228673633521,\n",
       " 1.2861647635861324,\n",
       " 1.4739891402016447,\n",
       " 1.1264987272210376,\n",
       " 1.2815489967003628,\n",
       " 3.3073671972139804,\n",
       " 1.292281775926088,\n",
       " 1.7748160226120162,\n",
       " 4.595497674787802,\n",
       " 2.2377334534876185,\n",
       " 4.0444670709513675,\n",
       " 0.870135793593545,\n",
       " 1.4519582885382687]"
      ]
     },
     "execution_count": 5538,
     "metadata": {},
     "output_type": "execute_result"
    }
   ],
   "source": [
    "HD"
   ]
  },
  {
   "cell_type": "code",
   "execution_count": 5539,
   "metadata": {},
   "outputs": [],
   "source": [
    "# Pair the HAF cells with HD affinities for sorting. \n",
    "Hab = [(a,b) for a,b in zip(H,HD)]"
   ]
  },
  {
   "cell_type": "code",
   "execution_count": 5540,
   "metadata": {},
   "outputs": [
    {
     "data": {
      "text/plain": [
       "[([0.917841002978641, 5.999770470276882], 0.31530734330741284),\n",
       " ([0.917841002978641, 5.999770470276882], 4.412865205420326),\n",
       " ([2.556629370244108, 2.819987771203578], 1.4151165574876916),\n",
       " ([3.380243873506006, 0.8937662512893463], 1.2308279641493565),\n",
       " ([5.847568106005285, 0.26332995597611375], 1.7293347376837713),\n",
       " ([2.556629370244108, 2.819987771203578], 5.299652884674404),\n",
       " ([0.917841002978641, 5.999770470276882], 4.3023648665170695),\n",
       " ([3.380243873506006, 0.8937662512893463], 2.967228673633521),\n",
       " ([0.917841002978641, 5.999770470276882], 1.2861647635861324),\n",
       " ([2.556629370244108, 2.819987771203578], 1.4739891402016447),\n",
       " ([2.556629370244108, 2.819987771203578], 1.1264987272210376),\n",
       " ([2.556629370244108, 2.819987771203578], 1.2815489967003628),\n",
       " ([2.556629370244108, 2.819987771203578], 3.3073671972139804),\n",
       " ([3.380243873506006, 0.8937662512893463], 1.292281775926088),\n",
       " ([0.917841002978641, 5.999770470276882], 1.7748160226120162),\n",
       " ([0.917841002978641, 5.999770470276882], 4.595497674787802),\n",
       " ([0.917841002978641, 5.999770470276882], 2.2377334534876185),\n",
       " ([0.917841002978641, 5.999770470276882], 4.0444670709513675),\n",
       " ([3.380243873506006, 0.8937662512893463], 0.870135793593545),\n",
       " ([0.917841002978641, 5.999770470276882], 1.4519582885382687)]"
      ]
     },
     "execution_count": 5540,
     "metadata": {},
     "output_type": "execute_result"
    }
   ],
   "source": [
    "Hab"
   ]
  },
  {
   "cell_type": "code",
   "execution_count": 5541,
   "metadata": {},
   "outputs": [],
   "source": [
    "Hab = sorted(Hab, key=lambda k:k[1])"
   ]
  },
  {
   "cell_type": "code",
   "execution_count": 5542,
   "metadata": {},
   "outputs": [
    {
     "data": {
      "text/plain": [
       "[([0.917841002978641, 5.999770470276882], 0.31530734330741284),\n",
       " ([3.380243873506006, 0.8937662512893463], 0.870135793593545),\n",
       " ([2.556629370244108, 2.819987771203578], 1.1264987272210376),\n",
       " ([3.380243873506006, 0.8937662512893463], 1.2308279641493565),\n",
       " ([2.556629370244108, 2.819987771203578], 1.2815489967003628),\n",
       " ([0.917841002978641, 5.999770470276882], 1.2861647635861324),\n",
       " ([3.380243873506006, 0.8937662512893463], 1.292281775926088),\n",
       " ([2.556629370244108, 2.819987771203578], 1.4151165574876916),\n",
       " ([0.917841002978641, 5.999770470276882], 1.4519582885382687),\n",
       " ([2.556629370244108, 2.819987771203578], 1.4739891402016447),\n",
       " ([5.847568106005285, 0.26332995597611375], 1.7293347376837713),\n",
       " ([0.917841002978641, 5.999770470276882], 1.7748160226120162),\n",
       " ([0.917841002978641, 5.999770470276882], 2.2377334534876185),\n",
       " ([3.380243873506006, 0.8937662512893463], 2.967228673633521),\n",
       " ([2.556629370244108, 2.819987771203578], 3.3073671972139804),\n",
       " ([0.917841002978641, 5.999770470276882], 4.0444670709513675),\n",
       " ([0.917841002978641, 5.999770470276882], 4.3023648665170695),\n",
       " ([0.917841002978641, 5.999770470276882], 4.412865205420326),\n",
       " ([0.917841002978641, 5.999770470276882], 4.595497674787802),\n",
       " ([2.556629370244108, 2.819987771203578], 5.299652884674404)]"
      ]
     },
     "execution_count": 5542,
     "metadata": {},
     "output_type": "execute_result"
    }
   ],
   "source": [
    "Hab"
   ]
  },
  {
   "cell_type": "code",
   "execution_count": 5543,
   "metadata": {},
   "outputs": [],
   "source": [
    "select = math.ceil(len(Hab)*p_select)"
   ]
  },
  {
   "cell_type": "code",
   "execution_count": 5544,
   "metadata": {},
   "outputs": [
    {
     "data": {
      "text/plain": [
       "18"
      ]
     },
     "execution_count": 5544,
     "metadata": {},
     "output_type": "execute_result"
    }
   ],
   "source": [
    "select"
   ]
  },
  {
   "cell_type": "code",
   "execution_count": 5545,
   "metadata": {},
   "outputs": [],
   "source": [
    "Hab = Hab[:select]"
   ]
  },
  {
   "cell_type": "code",
   "execution_count": 5546,
   "metadata": {},
   "outputs": [
    {
     "data": {
      "text/plain": [
       "[([0.917841002978641, 5.999770470276882], 0.31530734330741284),\n",
       " ([3.380243873506006, 0.8937662512893463], 0.870135793593545),\n",
       " ([2.556629370244108, 2.819987771203578], 1.1264987272210376),\n",
       " ([3.380243873506006, 0.8937662512893463], 1.2308279641493565),\n",
       " ([2.556629370244108, 2.819987771203578], 1.2815489967003628),\n",
       " ([0.917841002978641, 5.999770470276882], 1.2861647635861324),\n",
       " ([3.380243873506006, 0.8937662512893463], 1.292281775926088),\n",
       " ([2.556629370244108, 2.819987771203578], 1.4151165574876916),\n",
       " ([0.917841002978641, 5.999770470276882], 1.4519582885382687),\n",
       " ([2.556629370244108, 2.819987771203578], 1.4739891402016447),\n",
       " ([5.847568106005285, 0.26332995597611375], 1.7293347376837713),\n",
       " ([0.917841002978641, 5.999770470276882], 1.7748160226120162),\n",
       " ([0.917841002978641, 5.999770470276882], 2.2377334534876185),\n",
       " ([3.380243873506006, 0.8937662512893463], 2.967228673633521),\n",
       " ([2.556629370244108, 2.819987771203578], 3.3073671972139804),\n",
       " ([0.917841002978641, 5.999770470276882], 4.0444670709513675),\n",
       " ([0.917841002978641, 5.999770470276882], 4.3023648665170695),\n",
       " ([0.917841002978641, 5.999770470276882], 4.412865205420326)]"
      ]
     },
     "execution_count": 5546,
     "metadata": {},
     "output_type": "execute_result"
    }
   ],
   "source": [
    "Hab"
   ]
  },
  {
   "cell_type": "code",
   "execution_count": 5547,
   "metadata": {},
   "outputs": [],
   "source": [
    "D = [hab[1] for hab in Hab]"
   ]
  },
  {
   "cell_type": "code",
   "execution_count": 5548,
   "metadata": {},
   "outputs": [],
   "source": [
    "H = [hab[0] for hab in Hab] "
   ]
  },
  {
   "cell_type": "code",
   "execution_count": 5549,
   "metadata": {},
   "outputs": [
    {
     "data": {
      "text/plain": [
       "[[0.917841002978641, 5.999770470276882],\n",
       " [3.380243873506006, 0.8937662512893463],\n",
       " [2.556629370244108, 2.819987771203578],\n",
       " [3.380243873506006, 0.8937662512893463],\n",
       " [2.556629370244108, 2.819987771203578],\n",
       " [0.917841002978641, 5.999770470276882],\n",
       " [3.380243873506006, 0.8937662512893463],\n",
       " [2.556629370244108, 2.819987771203578],\n",
       " [0.917841002978641, 5.999770470276882],\n",
       " [2.556629370244108, 2.819987771203578],\n",
       " [5.847568106005285, 0.26332995597611375],\n",
       " [0.917841002978641, 5.999770470276882],\n",
       " [0.917841002978641, 5.999770470276882],\n",
       " [3.380243873506006, 0.8937662512893463],\n",
       " [2.556629370244108, 2.819987771203578],\n",
       " [0.917841002978641, 5.999770470276882],\n",
       " [0.917841002978641, 5.999770470276882],\n",
       " [0.917841002978641, 5.999770470276882]]"
      ]
     },
     "execution_count": 5549,
     "metadata": {},
     "output_type": "execute_result"
    }
   ],
   "source": [
    "H"
   ]
  },
  {
   "cell_type": "code",
   "execution_count": 5550,
   "metadata": {
    "scrolled": true
   },
   "outputs": [
    {
     "data": {
      "text/plain": [
       "[0.31530734330741284,\n",
       " 0.870135793593545,\n",
       " 1.1264987272210376,\n",
       " 1.2308279641493565,\n",
       " 1.2815489967003628,\n",
       " 1.2861647635861324,\n",
       " 1.292281775926088,\n",
       " 1.4151165574876916,\n",
       " 1.4519582885382687,\n",
       " 1.4739891402016447,\n",
       " 1.7293347376837713,\n",
       " 1.7748160226120162,\n",
       " 2.2377334534876185,\n",
       " 2.967228673633521,\n",
       " 3.3073671972139804,\n",
       " 4.0444670709513675,\n",
       " 4.3023648665170695,\n",
       " 4.412865205420326]"
      ]
     },
     "execution_count": 5550,
     "metadata": {},
     "output_type": "execute_result"
    }
   ],
   "source": [
    "D"
   ]
  },
  {
   "cell_type": "code",
   "execution_count": 5551,
   "metadata": {},
   "outputs": [],
   "source": [
    "D_array = np.array(D)"
   ]
  },
  {
   "cell_type": "code",
   "execution_count": 5552,
   "metadata": {
    "scrolled": true
   },
   "outputs": [
    {
     "data": {
      "text/plain": [
       "array([0.31530734, 0.87013579, 1.12649873, 1.23082796, 1.281549  ,\n",
       "       1.28616476, 1.29228178, 1.41511656, 1.45195829, 1.47398914,\n",
       "       1.72933474, 1.77481602, 2.23773345, 2.96722867, 3.3073672 ,\n",
       "       4.04446707, 4.30236487, 4.41286521])"
      ]
     },
     "execution_count": 5552,
     "metadata": {},
     "output_type": "execute_result"
    }
   ],
   "source": [
    "D_array"
   ]
  },
  {
   "cell_type": "code",
   "execution_count": 5553,
   "metadata": {},
   "outputs": [],
   "source": [
    "Dnorm = (D_array-D_array.min()) / (D_array.max() - D_array.min())"
   ]
  },
  {
   "cell_type": "code",
   "execution_count": 5554,
   "metadata": {},
   "outputs": [
    {
     "data": {
      "text/plain": [
       "array([0.        , 0.13540467, 0.19796948, 0.2234308 , 0.23580915,\n",
       "       0.23693562, 0.23842847, 0.26840602, 0.27739717, 0.28277375,\n",
       "       0.34509028, 0.35618989, 0.46916387, 0.64719558, 0.73020564,\n",
       "       0.91009324, 0.97303263, 1.        ])"
      ]
     },
     "execution_count": 5554,
     "metadata": {},
     "output_type": "execute_result"
    }
   ],
   "source": [
    "Dnorm"
   ]
  },
  {
   "cell_type": "code",
   "execution_count": 5555,
   "metadata": {},
   "outputs": [],
   "source": [
    "D = np.array([1])-Dnorm"
   ]
  },
  {
   "cell_type": "code",
   "execution_count": 5556,
   "metadata": {},
   "outputs": [
    {
     "data": {
      "text/plain": [
       "array([1.        , 0.86459533, 0.80203052, 0.7765692 , 0.76419085,\n",
       "       0.76306438, 0.76157153, 0.73159398, 0.72260283, 0.71722625,\n",
       "       0.65490972, 0.64381011, 0.53083613, 0.35280442, 0.26979436,\n",
       "       0.08990676, 0.02696737, 0.        ])"
      ]
     },
     "execution_count": 5556,
     "metadata": {},
     "output_type": "execute_result"
    }
   ],
   "source": [
    "D"
   ]
  },
  {
   "cell_type": "code",
   "execution_count": 5557,
   "metadata": {},
   "outputs": [],
   "source": [
    "N = D*n_clones"
   ]
  },
  {
   "cell_type": "code",
   "execution_count": 5558,
   "metadata": {
    "scrolled": true
   },
   "outputs": [],
   "source": [
    "N=N.astype(int)"
   ]
  },
  {
   "cell_type": "code",
   "execution_count": 5559,
   "metadata": {},
   "outputs": [
    {
     "data": {
      "text/plain": [
       "array([100,  86,  80,  77,  76,  76,  76,  73,  72,  71,  65,  64,  53,\n",
       "        35,  26,   8,   2,   0])"
      ]
     },
     "execution_count": 5559,
     "metadata": {},
     "output_type": "execute_result"
    }
   ],
   "source": [
    "N"
   ]
  },
  {
   "cell_type": "code",
   "execution_count": 5560,
   "metadata": {},
   "outputs": [],
   "source": [
    "H = np.repeat(H,N,axis=0)"
   ]
  },
  {
   "cell_type": "code",
   "execution_count": 5561,
   "metadata": {},
   "outputs": [
    {
     "data": {
      "text/plain": [
       "array([[0.917841  , 5.99977047],\n",
       "       [0.917841  , 5.99977047],\n",
       "       [0.917841  , 5.99977047],\n",
       "       ...,\n",
       "       [0.917841  , 5.99977047],\n",
       "       [0.917841  , 5.99977047],\n",
       "       [0.917841  , 5.99977047]])"
      ]
     },
     "execution_count": 5561,
     "metadata": {},
     "output_type": "execute_result"
    }
   ],
   "source": [
    "H"
   ]
  },
  {
   "cell_type": "code",
   "execution_count": 5562,
   "metadata": {},
   "outputs": [],
   "source": [
    "H = np.array([h-learn_rate*(h-AG) for h in H])"
   ]
  },
  {
   "cell_type": "code",
   "execution_count": 5563,
   "metadata": {},
   "outputs": [
    {
     "data": {
      "text/plain": [
       "array([[[ 1.12031365,  5.75806083],\n",
       "        [-1.91423083,  2.61557951],\n",
       "        [ 1.28933778,  3.44969159],\n",
       "        ...,\n",
       "        [-1.87481616,  3.07423123],\n",
       "        [ 2.91970372,  0.15549864],\n",
       "        [ 1.42013331,  4.63746165]],\n",
       "\n",
       "       [[ 1.12031365,  5.75806083],\n",
       "        [-1.91423083,  2.61557951],\n",
       "        [ 1.28933778,  3.44969159],\n",
       "        ...,\n",
       "        [-1.87481616,  3.07423123],\n",
       "        [ 2.91970372,  0.15549864],\n",
       "        [ 1.42013331,  4.63746165]],\n",
       "\n",
       "       [[ 1.12031365,  5.75806083],\n",
       "        [-1.91423083,  2.61557951],\n",
       "        [ 1.28933778,  3.44969159],\n",
       "        ...,\n",
       "        [-1.87481616,  3.07423123],\n",
       "        [ 2.91970372,  0.15549864],\n",
       "        [ 1.42013331,  4.63746165]],\n",
       "\n",
       "       ...,\n",
       "\n",
       "       [[ 1.12031365,  5.75806083],\n",
       "        [-1.91423083,  2.61557951],\n",
       "        [ 1.28933778,  3.44969159],\n",
       "        ...,\n",
       "        [-1.87481616,  3.07423123],\n",
       "        [ 2.91970372,  0.15549864],\n",
       "        [ 1.42013331,  4.63746165]],\n",
       "\n",
       "       [[ 1.12031365,  5.75806083],\n",
       "        [-1.91423083,  2.61557951],\n",
       "        [ 1.28933778,  3.44969159],\n",
       "        ...,\n",
       "        [-1.87481616,  3.07423123],\n",
       "        [ 2.91970372,  0.15549864],\n",
       "        [ 1.42013331,  4.63746165]],\n",
       "\n",
       "       [[ 1.12031365,  5.75806083],\n",
       "        [-1.91423083,  2.61557951],\n",
       "        [ 1.28933778,  3.44969159],\n",
       "        ...,\n",
       "        [-1.87481616,  3.07423123],\n",
       "        [ 2.91970372,  0.15549864],\n",
       "        [ 1.42013331,  4.63746165]]])"
      ]
     },
     "execution_count": 5563,
     "metadata": {},
     "output_type": "execute_result"
    }
   ],
   "source": [
    "H"
   ]
  },
  {
   "cell_type": "code",
   "execution_count": 5564,
   "metadata": {},
   "outputs": [],
   "source": [
    "H = np.reshape(H, (H.shape[0]*H.shape[1], H.shape[2]))"
   ]
  },
  {
   "cell_type": "code",
   "execution_count": 5565,
   "metadata": {},
   "outputs": [
    {
     "data": {
      "text/plain": [
       "array([[ 1.12031365,  5.75806083],\n",
       "       [-1.91423083,  2.61557951],\n",
       "       [ 1.28933778,  3.44969159],\n",
       "       ...,\n",
       "       [-1.87481616,  3.07423123],\n",
       "       [ 2.91970372,  0.15549864],\n",
       "       [ 1.42013331,  4.63746165]])"
      ]
     },
     "execution_count": 5565,
     "metadata": {},
     "output_type": "execute_result"
    }
   ],
   "source": [
    "H"
   ]
  },
  {
   "cell_type": "code",
   "execution_count": 5566,
   "metadata": {},
   "outputs": [],
   "source": [
    "D = np.array([[np.linalg.norm(ag-ab) for ab in H] for ag in AG])"
   ]
  },
  {
   "cell_type": "code",
   "execution_count": 5567,
   "metadata": {},
   "outputs": [
    {
     "data": {
      "text/plain": [
       "array([[0.00000000e+00, 4.36848361e+00, 2.31454914e+00, ...,\n",
       "        4.02165935e+00, 5.88442926e+00, 1.16001481e+00],\n",
       "       [4.36848361e+00, 0.00000000e+00, 3.31037684e+00, ...,\n",
       "        4.60342173e-01, 5.42392120e+00, 3.89948607e+00],\n",
       "       [2.31454914e+00, 3.31037684e+00, 0.00000000e+00, ...,\n",
       "        3.18635225e+00, 3.67556802e+00, 1.19494987e+00],\n",
       "       ...,\n",
       "       [4.02165935e+00, 4.60342173e-01, 3.18635225e+00, ...,\n",
       "        2.22044605e-16, 5.61305807e+00, 3.64696880e+00],\n",
       "       [5.88442926e+00, 5.42392120e+00, 3.67556802e+00, ...,\n",
       "        5.61305807e+00, 1.11022302e-16, 4.72617222e+00],\n",
       "       [1.16001481e+00, 3.89948607e+00, 1.19494987e+00, ...,\n",
       "        3.64696880e+00, 4.72617222e+00, 0.00000000e+00]])"
      ]
     },
     "execution_count": 5567,
     "metadata": {},
     "output_type": "execute_result"
    }
   ],
   "source": [
    "D"
   ]
  },
  {
   "cell_type": "code",
   "execution_count": 5568,
   "metadata": {},
   "outputs": [
    {
     "data": {
      "text/plain": [
       "(20, 20800)"
      ]
     },
     "execution_count": 5568,
     "metadata": {},
     "output_type": "execute_result"
    }
   ],
   "source": [
    "D.shape"
   ]
  },
  {
   "cell_type": "code",
   "execution_count": 5569,
   "metadata": {},
   "outputs": [],
   "source": [
    "HD = [D[i][d[0]] for (i,d) in enumerate(D.argsort())]"
   ]
  },
  {
   "cell_type": "code",
   "execution_count": 5570,
   "metadata": {},
   "outputs": [
    {
     "data": {
      "text/plain": [
       "[0.0,\n",
       " 0.0,\n",
       " 0.0,\n",
       " 0.0,\n",
       " 0.0,\n",
       " 2.220446049250313e-16,\n",
       " 0.0,\n",
       " 0.0,\n",
       " 0.0,\n",
       " 0.0,\n",
       " 0.0,\n",
       " 0.0,\n",
       " 0.0,\n",
       " 0.0,\n",
       " 0.0,\n",
       " 0.0,\n",
       " 0.0,\n",
       " 2.220446049250313e-16,\n",
       " 0.0,\n",
       " 0.0]"
      ]
     },
     "execution_count": 5570,
     "metadata": {},
     "output_type": "execute_result"
    }
   ],
   "source": [
    "HD"
   ]
  },
  {
   "cell_type": "code",
   "execution_count": 5571,
   "metadata": {},
   "outputs": [],
   "source": [
    "H=[H[d[0]].tolist() for d in D.argsort()]"
   ]
  },
  {
   "cell_type": "code",
   "execution_count": 5572,
   "metadata": {},
   "outputs": [
    {
     "data": {
      "text/plain": [
       "[[1.1203136497073731, 5.758060834411365],\n",
       " [-1.9142308306298577, 2.615579510757787],\n",
       " [1.2893377801973964, 3.449691588146665],\n",
       " [2.2102149471297943, 1.2758261795401105],\n",
       " [4.325022145420485, -0.5567020146608279],\n",
       " [-2.5754569782889982, 1.4978643241541478],\n",
       " [-3.233174203846918, 4.8686576565649125],\n",
       " [1.1674817738027652, -1.0831328082859901],\n",
       " [0.8730512267529372, 4.714385829386762],\n",
       " [1.9263584960720843, 4.152430119150692],\n",
       " [3.5880467357913357, 2.367022429838222],\n",
       " [2.4703491517041014, 4.098629063682589],\n",
       " [-0.49772229440120075, 1.5512822553782974],\n",
       " [2.101026038734324, 0.7104798099121032],\n",
       " [1.7373078036934886, 4.425462343941218],\n",
       " [-2.036556194973559, 2.4798079597219362],\n",
       " [-0.29661333249418464, 4.120262110117534],\n",
       " [-1.8748161625480582, 3.074231230437103],\n",
       " [2.9197037202923837, 0.1554986395314949],\n",
       " [1.4201333112919208, 4.637461654822657]]"
      ]
     },
     "execution_count": 5572,
     "metadata": {},
     "output_type": "execute_result"
    }
   ],
   "source": [
    "H"
   ]
  },
  {
   "cell_type": "code",
   "execution_count": 5573,
   "metadata": {},
   "outputs": [],
   "source": [
    "Hab = H"
   ]
  },
  {
   "cell_type": "code",
   "execution_count": 5574,
   "metadata": {},
   "outputs": [
    {
     "data": {
      "text/plain": [
       "[[1.1203136497073731, 5.758060834411365],\n",
       " [-1.9142308306298577, 2.615579510757787],\n",
       " [1.2893377801973964, 3.449691588146665],\n",
       " [2.2102149471297943, 1.2758261795401105],\n",
       " [4.325022145420485, -0.5567020146608279],\n",
       " [-2.5754569782889982, 1.4978643241541478],\n",
       " [-3.233174203846918, 4.8686576565649125],\n",
       " [1.1674817738027652, -1.0831328082859901],\n",
       " [0.8730512267529372, 4.714385829386762],\n",
       " [1.9263584960720843, 4.152430119150692],\n",
       " [3.5880467357913357, 2.367022429838222],\n",
       " [2.4703491517041014, 4.098629063682589],\n",
       " [-0.49772229440120075, 1.5512822553782974],\n",
       " [2.101026038734324, 0.7104798099121032],\n",
       " [1.7373078036934886, 4.425462343941218],\n",
       " [-2.036556194973559, 2.4798079597219362],\n",
       " [-0.29661333249418464, 4.120262110117534],\n",
       " [-1.8748161625480582, 3.074231230437103],\n",
       " [2.9197037202923837, 0.1554986395314949],\n",
       " [1.4201333112919208, 4.637461654822657]]"
      ]
     },
     "execution_count": 5574,
     "metadata": {},
     "output_type": "execute_result"
    }
   ],
   "source": [
    "Hab"
   ]
  },
  {
   "cell_type": "code",
   "execution_count": 5575,
   "metadata": {},
   "outputs": [
    {
     "data": {
      "text/plain": [
       "0.5"
      ]
     },
     "execution_count": 5575,
     "metadata": {},
     "output_type": "execute_result"
    }
   ],
   "source": [
    "OMEGA # STORE ALL THE HIGH AFFINITY CELLS."
   ]
  },
  {
   "cell_type": "code",
   "execution_count": 5576,
   "metadata": {},
   "outputs": [],
   "source": [
    "M = Hab[:int(OMEGA*len(Hab))]"
   ]
  },
  {
   "cell_type": "code",
   "execution_count": 5577,
   "metadata": {},
   "outputs": [
    {
     "data": {
      "text/plain": [
       "[[1.1203136497073731, 5.758060834411365],\n",
       " [-1.9142308306298577, 2.615579510757787],\n",
       " [1.2893377801973964, 3.449691588146665],\n",
       " [2.2102149471297943, 1.2758261795401105],\n",
       " [4.325022145420485, -0.5567020146608279],\n",
       " [-2.5754569782889982, 1.4978643241541478],\n",
       " [-3.233174203846918, 4.8686576565649125],\n",
       " [1.1674817738027652, -1.0831328082859901],\n",
       " [0.8730512267529372, 4.714385829386762],\n",
       " [1.9263584960720843, 4.152430119150692]]"
      ]
     },
     "execution_count": 5577,
     "metadata": {},
     "output_type": "execute_result"
    }
   ],
   "source": [
    "M"
   ]
  },
  {
   "cell_type": "code",
   "execution_count": 5578,
   "metadata": {},
   "outputs": [],
   "source": [
    "M = np.array(M)"
   ]
  },
  {
   "cell_type": "code",
   "execution_count": 5579,
   "metadata": {},
   "outputs": [
    {
     "data": {
      "text/plain": [
       "array([[ 1.12031365,  5.75806083],\n",
       "       [-1.91423083,  2.61557951],\n",
       "       [ 1.28933778,  3.44969159],\n",
       "       [ 2.21021495,  1.27582618],\n",
       "       [ 4.32502215, -0.55670201],\n",
       "       [-2.57545698,  1.49786432],\n",
       "       [-3.2331742 ,  4.86865766],\n",
       "       [ 1.16748177, -1.08313281],\n",
       "       [ 0.87305123,  4.71438583],\n",
       "       [ 1.9263585 ,  4.15243012]])"
      ]
     },
     "execution_count": 5579,
     "metadata": {},
     "output_type": "execute_result"
    }
   ],
   "source": [
    "M"
   ]
  },
  {
   "cell_type": "code",
   "execution_count": 5580,
   "metadata": {},
   "outputs": [],
   "source": [
    "# Clonal suppression. \n",
    "S = np.array([[np.linalg.norm(np.array(mx)-np.array(my)) for mx in M] for my in M])"
   ]
  },
  {
   "cell_type": "code",
   "execution_count": 5581,
   "metadata": {},
   "outputs": [
    {
     "data": {
      "text/plain": [
       "array([[0.        , 4.36848361, 2.31454914, 4.61284211, 7.08141133,\n",
       "        5.6398577 , 4.44341023, 6.84135625, 1.07256525, 1.79659631],\n",
       "       [4.36848361, 0.        , 3.31037684, 4.33658759, 6.99940339,\n",
       "        1.29865594, 2.6107418 , 4.81429386, 3.48911582, 4.1366697 ],\n",
       "       [2.31454914, 3.31037684, 0.        , 2.36086966, 5.02658624,\n",
       "        4.32969609, 4.73989234, 4.53446203, 1.33144509, 0.94849187],\n",
       "       [4.61284211, 4.33658759, 2.36086966, 0.        , 2.7983154 ,\n",
       "        4.79082005, 6.52218702, 2.57914326, 3.68940365, 2.89057515],\n",
       "       [7.08141133, 6.99940339, 5.02658624, 2.7983154 , 0.        ,\n",
       "        7.19985104, 9.30380888, 3.20112333, 6.30083092, 5.28483801],\n",
       "       [5.6398577 , 1.29865594, 4.32969609, 4.79082005, 7.19985104,\n",
       "        0.        , 3.43436161, 4.54655218, 4.71574166, 5.22619002],\n",
       "       [4.44341023, 2.6107418 , 4.73989234, 6.52218702, 9.30380888,\n",
       "        3.43436161, 0.        , 7.40199857, 4.10912242, 5.20900754],\n",
       "       [6.84135625, 4.81429386, 4.53446203, 2.57914326, 3.20112333,\n",
       "        4.54655218, 7.40199857, 0.        , 5.80499024, 5.29027533],\n",
       "       [1.07256525, 3.48911582, 1.33144509, 3.68940365, 6.30083092,\n",
       "        4.71574166, 4.10912242, 5.80499024, 0.        , 1.19383853],\n",
       "       [1.79659631, 4.1366697 , 0.94849187, 2.89057515, 5.28483801,\n",
       "        5.22619002, 5.20900754, 5.29027533, 1.19383853, 0.        ]])"
      ]
     },
     "execution_count": 5581,
     "metadata": {},
     "output_type": "execute_result"
    }
   ],
   "source": [
    "S"
   ]
  },
  {
   "cell_type": "code",
   "execution_count": 5582,
   "metadata": {},
   "outputs": [],
   "source": [
    "S=normalize_2D(S)"
   ]
  },
  {
   "cell_type": "code",
   "execution_count": 5583,
   "metadata": {},
   "outputs": [
    {
     "data": {
      "text/plain": [
       "array([[0.        , 0.46953712, 0.24877436, 0.49580147, 0.76113035,\n",
       "        0.60618804, 0.47759045, 0.73532855, 0.11528238, 0.19310331],\n",
       "       [0.46953712, 0.        , 0.35580877, 0.46610884, 0.7523159 ,\n",
       "        0.13958326, 0.28061   , 0.51745408, 0.37502015, 0.4446211 ],\n",
       "       [0.24877436, 0.35580877, 0.        , 0.25375303, 0.54027187,\n",
       "        0.46536812, 0.50945719, 0.48737695, 0.14310753, 0.10194662],\n",
       "       [0.49580147, 0.46610884, 0.25375303, 0.        , 0.30077095,\n",
       "        0.51493105, 0.70102332, 0.2772137 , 0.39654766, 0.31068729],\n",
       "       [0.76113035, 0.7523159 , 0.54027187, 0.30077095, 0.        ,\n",
       "        0.77386059, 1.        , 0.3440659 , 0.67723134, 0.56802951],\n",
       "       [0.60618804, 0.13958326, 0.46536812, 0.51493105, 0.77386059,\n",
       "        0.        , 0.36913501, 0.48867644, 0.50686141, 0.56172586],\n",
       "       [0.47759045, 0.28061   , 0.50945719, 0.70102332, 1.        ,\n",
       "        0.36913501, 0.        , 0.79558799, 0.44166024, 0.55987904],\n",
       "       [0.73532855, 0.51745408, 0.48737695, 0.2772137 , 0.3440659 ,\n",
       "        0.48867644, 0.79558799, 0.        , 0.62393696, 0.56861393],\n",
       "       [0.11528238, 0.37502015, 0.14310753, 0.39654766, 0.67723134,\n",
       "        0.50686141, 0.44166024, 0.62393696, 0.        , 0.12831718],\n",
       "       [0.19310331, 0.4446211 , 0.10194662, 0.31068729, 0.56802951,\n",
       "        0.56172586, 0.55987904, 0.56861393, 0.12831718, 0.        ]])"
      ]
     },
     "execution_count": 5583,
     "metadata": {},
     "output_type": "execute_result"
    }
   ],
   "source": [
    "S"
   ]
  },
  {
   "cell_type": "code",
   "execution_count": 5584,
   "metadata": {},
   "outputs": [],
   "source": [
    "S=[[S[i][j] if j >= i+1 else 0 for j in range(S.shape[1])] for i in range(S.shape[0]-1)]"
   ]
  },
  {
   "cell_type": "code",
   "execution_count": 5585,
   "metadata": {},
   "outputs": [],
   "source": [
    "S=np.array(S)"
   ]
  },
  {
   "cell_type": "code",
   "execution_count": 5586,
   "metadata": {},
   "outputs": [
    {
     "data": {
      "text/plain": [
       "array([6])"
      ]
     },
     "execution_count": 5586,
     "metadata": {},
     "output_type": "execute_result"
    }
   ],
   "source": [
    "np.argwhere(S>M_threshold)[:,1]"
   ]
  },
  {
   "cell_type": "code",
   "execution_count": 5587,
   "metadata": {},
   "outputs": [],
   "source": [
    "Mp=M[np.argwhere(S>M_threshold)[:,1]]"
   ]
  },
  {
   "cell_type": "code",
   "execution_count": 5588,
   "metadata": {},
   "outputs": [],
   "source": [
    "Mp=np.array(list(set([tuple(mp) for mp in Mp])))"
   ]
  },
  {
   "cell_type": "code",
   "execution_count": 5589,
   "metadata": {},
   "outputs": [],
   "source": [
    "#S = np.array([[np.linalg.norm(np.array(m)-np.array(ab)) for ab in AB] for m in M])"
   ]
  },
  {
   "cell_type": "code",
   "execution_count": 5590,
   "metadata": {},
   "outputs": [],
   "source": [
    "#S=normalize_2D(S)"
   ]
  },
  {
   "cell_type": "code",
   "execution_count": 5591,
   "metadata": {},
   "outputs": [],
   "source": [
    "#AB=AB[np.argwhere(S>M_threshold)[:,1]]"
   ]
  },
  {
   "cell_type": "code",
   "execution_count": 5592,
   "metadata": {},
   "outputs": [],
   "source": [
    "#AB=np.array(list(set([tuple(ab) for ab in AB])))"
   ]
  },
  {
   "cell_type": "code",
   "execution_count": 5593,
   "metadata": {},
   "outputs": [],
   "source": [
    "AB=np.append(AB,Mp,axis=0)"
   ]
  },
  {
   "cell_type": "code",
   "execution_count": 5594,
   "metadata": {},
   "outputs": [
    {
     "data": {
      "text/plain": [
       "(11, 2)"
      ]
     },
     "execution_count": 5594,
     "metadata": {},
     "output_type": "execute_result"
    }
   ],
   "source": [
    "AB.shape"
   ]
  },
  {
   "cell_type": "code",
   "execution_count": 5595,
   "metadata": {},
   "outputs": [
    {
     "data": {
      "text/plain": [
       "(1, 2)"
      ]
     },
     "execution_count": 5595,
     "metadata": {},
     "output_type": "execute_result"
    }
   ],
   "source": [
    "Mp.shape"
   ]
  },
  {
   "cell_type": "code",
   "execution_count": 5596,
   "metadata": {},
   "outputs": [],
   "source": [
    "with open(\"ais.txt\", \"w+\") as of: \n",
    "    of.write(np.array2string(AB, separator=',') + \"\\n\")\n",
    "    of.close()"
   ]
  },
  {
   "cell_type": "code",
   "execution_count": 5597,
   "metadata": {},
   "outputs": [
    {
     "name": "stdout",
     "output_type": "stream",
     "text": [
      "[]\n"
     ]
    }
   ],
   "source": [
    "print (AB_lengths)"
   ]
  },
  {
   "cell_type": "code",
   "execution_count": 5598,
   "metadata": {},
   "outputs": [
    {
     "data": {
      "image/png": "[encoded data removed]",
      "text/plain": [
       "<Figure size 432x288 with 1 Axes>"
      ]
     },
     "metadata": {
      "needs_background": "light"
     },
     "output_type": "display_data"
    },
    {
     "data": {
      "image/png": "[encoded data removed]",
      "text/plain": [
       "<Figure size 432x288 with 1 Axes>"
      ]
     },
     "metadata": {
      "needs_background": "light"
     },
     "output_type": "display_data"
    }
   ],
   "source": [
    "import matplotlib.pyplot as plt\n",
    "from mpl_toolkits.mplot3d import Axes3D\n",
    "\n",
    "plt.scatter(AB[:,0], AB[:,1])\n",
    "plt.savefig(\"AB.png\")\n",
    "plt.show()\n",
    "\n",
    "plt.close()\n",
    "\n",
    "plt.scatter(AG[:,0], AG[:,1])\n",
    "plt.savefig(\"AG.png\")\n",
    "plt.show()\n",
    "\n",
    "plt.close()"
   ]
  },
  {
   "cell_type": "code",
   "execution_count": null,
   "metadata": {},
   "outputs": [],
   "source": []
  }
 ],
 "metadata": {
  "kernelspec": {
   "display_name": "Python 3",
   "language": "python",
   "name": "python3"
  },
  "language_info": {
   "codemirror_mode": {
    "name": "ipython",
    "version": 3
   },
   "file_extension": ".py",
   "mimetype": "text/x-python",
   "name": "python",
   "nbconvert_exporter": "python",
   "pygments_lexer": "ipython3",
   "version": "3.7.3"
  }
 },
 "nbformat": 4,
 "nbformat_minor": 2
}
