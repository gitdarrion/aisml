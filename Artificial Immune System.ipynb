{
 "cells": [
  {
   "cell_type": "code",
   "execution_count": 5,
   "metadata": {},
   "outputs": [],
   "source": [
    "import numpy as np"
   ]
  },
  {
   "cell_type": "code",
   "execution_count": 246,
   "metadata": {},
   "outputs": [],
   "source": [
    "def fit(X, C, a, hn, hp, cs, nc, iterations):\n",
    "    \n",
    "    i=0\n",
    "    \n",
    "    while (i<iterations):\n",
    "        \n",
    "        D = np.array([np.linalg.norm(c-X) for c in C])\n",
    "\n",
    "        ixs = D.argsort()[-hn:][::1] # Get indices of top hn highest affinity cells. \n",
    "        HAF_Cells_D = D[ixs] # Store the dissimilarity values of the cells. \n",
    "        HAF_Cells_N = (HAF_Cells_D / sum(HAF_Cells_D)) * nc # Calculate the N clones for each cell. \n",
    "        HAF_Cells_N = HAF_Cells_N.astype(int) # Convert from float to integer.\n",
    "        HAF_Cells = C[ixs] # Store the highest affinity cells.\n",
    "        HAF_Cells = np.repeat(HAF_Cells, HAF_Cells_N, axis=0) # Clone the highest affinity cells relative to affinity score.\n",
    "        HAF_Cells = np.array([cell-a*(cell-X) for cell in HAF_Cells]) # Mutate / \"learn\" the cells by increasing complementarity. \n",
    "        HAF_Cells = np.reshape(HAF_Cells, (HAF_Cells.shape[0]*HAF_Cells.shape[1], HAF_Cells.shape[2])) # Reduce the dimensions of the high affinity cell matrix. \n",
    "        # 3D matrix to 2D matrix representing all the cells emerging from subtracting each HAF cell from the whole X matrix of antigens. \n",
    "\n",
    "        D = np.array([np.linalg.norm(cell-X) for cell in HAF_Cells])\n",
    "        ixs = D.argsort()[int((1-hp)*D.shape[0]):][::1]\n",
    "        D = D[ixs]\n",
    "        M = HAF_Cells[ixs]\n",
    "\n",
    "        S = np.array([np.linalg.norm(m-M) for m in M])\n",
    "        ixs = S.argsort()[-int((1-cs)*S.shape[0]):][::1]\n",
    "        M = M[ixs]\n",
    "        C = np.append(C, M, axis=0)\n",
    "\n",
    "        S = np.array([np.linalg.norm(c-C) for c in C])\n",
    "        ixs = S.argsort()[-int((1-cs)*S.shape[0]):][::1]\n",
    "        C = C[ixs]\n",
    "        \n",
    "        i+=1\n",
    "        \n",
    "    return C\n"
   ]
  },
  {
   "cell_type": "code",
   "execution_count": 249,
   "metadata": {},
   "outputs": [],
   "source": [
    "X = np.random.rand(10, 10) * 100\n",
    "C = np.random.rand(30, 10) * 100\n",
    "C = fit(X, C, 0.1,10, 0.9, 0.1, 10, 10)"
   ]
  },
  {
   "cell_type": "code",
   "execution_count": 253,
   "metadata": {},
   "outputs": [
    {
     "name": "stdout",
     "output_type": "stream",
     "text": [
      "Shape: (201, 10)\n",
      "Set: 37\n"
     ]
    }
   ],
   "source": [
    "print (\"Shape: \" + str(C.shape))\n",
    "C_set = set([tuple(c) for c in C.tolist()])\n",
    "print (\"Set: \" + str(len(C_set)))"
   ]
  },
  {
   "cell_type": "code",
   "execution_count": null,
   "metadata": {},
   "outputs": [],
   "source": []
  }
 ],
 "metadata": {
  "kernelspec": {
   "display_name": "Python 3",
   "language": "python",
   "name": "python3"
  },
  "language_info": {
   "codemirror_mode": {
    "name": "ipython",
    "version": 3
   },
   "file_extension": ".py",
   "mimetype": "text/x-python",
   "name": "python",
   "nbconvert_exporter": "python",
   "pygments_lexer": "ipython3",
   "version": "3.7.3"
  }
 },
 "nbformat": 4,
 "nbformat_minor": 2
}
