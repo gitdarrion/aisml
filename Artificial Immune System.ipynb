{
 "cells": [
  {
   "cell_type": "code",
   "execution_count": 566,
   "metadata": {},
   "outputs": [],
   "source": [
    "import numpy as np"
   ]
  },
  {
   "cell_type": "code",
   "execution_count": 567,
   "metadata": {},
   "outputs": [],
   "source": [
    "import math"
   ]
  },
  {
   "cell_type": "code",
   "execution_count": 633,
   "metadata": {},
   "outputs": [],
   "source": [
    "p_select, n_clones, learn_rate, OMEGA = 0.5, 2, 0.5, 1.0"
   ]
  },
  {
   "cell_type": "code",
   "execution_count": 607,
   "metadata": {},
   "outputs": [],
   "source": [
    "AG, AB = np.random.rand(3,1)*10, np.random.rand(9,1)*10"
   ]
  },
  {
   "cell_type": "code",
   "execution_count": 608,
   "metadata": {},
   "outputs": [
    {
     "data": {
      "text/plain": [
       "array([[5.75982327],\n",
       "       [7.50343886],\n",
       "       [8.38539479]])"
      ]
     },
     "execution_count": 608,
     "metadata": {},
     "output_type": "execute_result"
    }
   ],
   "source": [
    "AG"
   ]
  },
  {
   "cell_type": "code",
   "execution_count": 609,
   "metadata": {},
   "outputs": [
    {
     "data": {
      "text/plain": [
       "array([[5.83519715],\n",
       "       [2.44375792],\n",
       "       [2.07281713],\n",
       "       [4.86374463],\n",
       "       [3.57766174],\n",
       "       [7.0755087 ],\n",
       "       [3.67799244],\n",
       "       [1.51243265],\n",
       "       [5.29648763]])"
      ]
     },
     "execution_count": 609,
     "metadata": {},
     "output_type": "execute_result"
    }
   ],
   "source": [
    "AB"
   ]
  },
  {
   "cell_type": "code",
   "execution_count": 610,
   "metadata": {},
   "outputs": [],
   "source": [
    "D = np.array([[np.linalg.norm(ag-ab) for ab in AB] for ag in AG])"
   ]
  },
  {
   "cell_type": "code",
   "execution_count": 611,
   "metadata": {},
   "outputs": [
    {
     "data": {
      "text/plain": [
       "array([[0.07537388, 3.31606535, 3.68700614, 0.89607864, 2.18216153,\n",
       "        1.31568543, 2.08183084, 4.24739063, 0.46333564],\n",
       "       [1.66824171, 5.05968094, 5.43062173, 2.63969423, 3.92577712,\n",
       "        0.42793016, 3.82544642, 5.99100621, 2.20695123],\n",
       "       [2.55019764, 5.94163688, 6.31257767, 3.52165016, 4.80773305,\n",
       "        1.3098861 , 4.70740236, 6.87296215, 3.08890716]])"
      ]
     },
     "execution_count": 611,
     "metadata": {},
     "output_type": "execute_result"
    }
   ],
   "source": [
    "D"
   ]
  },
  {
   "cell_type": "code",
   "execution_count": 612,
   "metadata": {},
   "outputs": [],
   "source": [
    "# Select the n highest affinity cells. \n",
    "# The cells with the least distance are first in the argsorted lists. \n",
    "H = [AB[d[0]] for d in D.argsort()]"
   ]
  },
  {
   "cell_type": "code",
   "execution_count": 613,
   "metadata": {},
   "outputs": [
    {
     "data": {
      "text/plain": [
       "[array([5.83519715]), array([7.0755087]), array([7.0755087])]"
      ]
     },
     "execution_count": 613,
     "metadata": {},
     "output_type": "execute_result"
    }
   ],
   "source": [
    "H"
   ]
  },
  {
   "cell_type": "code",
   "execution_count": 576,
   "metadata": {},
   "outputs": [],
   "source": [
    "# Store the affinity values of the highest affinity cells. \n",
    "# H and HD map directly to one another. \n",
    "# So, the affinity of the first cell in H is the first value in HD. \n",
    "HD = [D[i][d[0]] for (i,d) in enumerate(D.argsort())]"
   ]
  },
  {
   "cell_type": "code",
   "execution_count": 577,
   "metadata": {},
   "outputs": [
    {
     "data": {
      "text/plain": [
       "[0.35842879118181337, 0.12346738703975868, 0.19073718551407115]"
      ]
     },
     "execution_count": 577,
     "metadata": {},
     "output_type": "execute_result"
    }
   ],
   "source": [
    "HD"
   ]
  },
  {
   "cell_type": "code",
   "execution_count": 578,
   "metadata": {},
   "outputs": [],
   "source": [
    "# Pair the HAF cells with HD affinities for sorting. \n",
    "Hab = [(a,b) for a,b in zip(H,HD)]"
   ]
  },
  {
   "cell_type": "code",
   "execution_count": 579,
   "metadata": {},
   "outputs": [
    {
     "data": {
      "text/plain": [
       "[(array([5.44489965]), 0.35842879118181337),\n",
       " (array([2.97419873]), 0.12346738703975868),\n",
       " (array([5.44489965]), 0.19073718551407115)]"
      ]
     },
     "execution_count": 579,
     "metadata": {},
     "output_type": "execute_result"
    }
   ],
   "source": [
    "Hab"
   ]
  },
  {
   "cell_type": "code",
   "execution_count": 580,
   "metadata": {},
   "outputs": [],
   "source": [
    "Hab = sorted(Hab, key=lambda k:k[1])"
   ]
  },
  {
   "cell_type": "code",
   "execution_count": 581,
   "metadata": {},
   "outputs": [
    {
     "data": {
      "text/plain": [
       "[(array([2.97419873]), 0.12346738703975868),\n",
       " (array([5.44489965]), 0.19073718551407115),\n",
       " (array([5.44489965]), 0.35842879118181337)]"
      ]
     },
     "execution_count": 581,
     "metadata": {},
     "output_type": "execute_result"
    }
   ],
   "source": [
    "Hab"
   ]
  },
  {
   "cell_type": "code",
   "execution_count": 582,
   "metadata": {},
   "outputs": [],
   "source": [
    "select = math.ceil(len(Hab)*p_select)"
   ]
  },
  {
   "cell_type": "code",
   "execution_count": 583,
   "metadata": {},
   "outputs": [
    {
     "data": {
      "text/plain": [
       "2"
      ]
     },
     "execution_count": 583,
     "metadata": {},
     "output_type": "execute_result"
    }
   ],
   "source": [
    "select"
   ]
  },
  {
   "cell_type": "code",
   "execution_count": 584,
   "metadata": {},
   "outputs": [],
   "source": [
    "Hab = Hab[:select]"
   ]
  },
  {
   "cell_type": "code",
   "execution_count": 602,
   "metadata": {},
   "outputs": [
    {
     "data": {
      "text/plain": [
       "[(array([[4.38876359],\n",
       "         [2.91246504],\n",
       "         [4.30491779]]), array([3.55011542, 1.68583557])),\n",
       " (array([[5.62411405],\n",
       "         [4.1478155 ],\n",
       "         [5.54026825]]), array([2.11754868, 4.07525308]))]"
      ]
     },
     "execution_count": 602,
     "metadata": {},
     "output_type": "execute_result"
    }
   ],
   "source": [
    "Hab"
   ]
  },
  {
   "cell_type": "code",
   "execution_count": 603,
   "metadata": {},
   "outputs": [],
   "source": [
    "D= [hab[1] for hab in Hab]"
   ]
  },
  {
   "cell_type": "code",
   "execution_count": 604,
   "metadata": {},
   "outputs": [
    {
     "data": {
      "text/plain": [
       "[array([[4.38876359],\n",
       "        [2.91246504],\n",
       "        [4.30491779]]), array([[5.62411405],\n",
       "        [4.1478155 ],\n",
       "        [5.54026825]])]"
      ]
     },
     "execution_count": 604,
     "metadata": {},
     "output_type": "execute_result"
    }
   ],
   "source": [
    "H"
   ]
  },
  {
   "cell_type": "code",
   "execution_count": 587,
   "metadata": {},
   "outputs": [
    {
     "data": {
      "text/plain": [
       "[0.12346738703975868, 0.19073718551407115]"
      ]
     },
     "execution_count": 587,
     "metadata": {},
     "output_type": "execute_result"
    }
   ],
   "source": [
    "D"
   ]
  },
  {
   "cell_type": "code",
   "execution_count": 588,
   "metadata": {},
   "outputs": [],
   "source": [
    "N = (D/sum(D))*n_clones"
   ]
  },
  {
   "cell_type": "code",
   "execution_count": 589,
   "metadata": {},
   "outputs": [
    {
     "data": {
      "text/plain": [
       "array([0.78590446, 1.21409554])"
      ]
     },
     "execution_count": 589,
     "metadata": {},
     "output_type": "execute_result"
    }
   ],
   "source": [
    "N"
   ]
  },
  {
   "cell_type": "code",
   "execution_count": 590,
   "metadata": {},
   "outputs": [],
   "source": [
    "N = [math.ceil(n) for n in N]"
   ]
  },
  {
   "cell_type": "code",
   "execution_count": 591,
   "metadata": {},
   "outputs": [
    {
     "data": {
      "text/plain": [
       "[1, 2]"
      ]
     },
     "execution_count": 591,
     "metadata": {},
     "output_type": "execute_result"
    }
   ],
   "source": [
    "N"
   ]
  },
  {
   "cell_type": "code",
   "execution_count": 600,
   "metadata": {},
   "outputs": [
    {
     "data": {
      "text/plain": [
       "[array([[4.38876359],\n",
       "        [2.91246504],\n",
       "        [4.30491779]]), array([[5.62411405],\n",
       "        [4.1478155 ],\n",
       "        [5.54026825]])]"
      ]
     },
     "execution_count": 600,
     "metadata": {},
     "output_type": "execute_result"
    }
   ],
   "source": [
    "H"
   ]
  },
  {
   "cell_type": "code",
   "execution_count": 614,
   "metadata": {},
   "outputs": [],
   "source": [
    "H = np.array([h-learn_rate*(h-AG) for h in H])"
   ]
  },
  {
   "cell_type": "code",
   "execution_count": 615,
   "metadata": {},
   "outputs": [
    {
     "data": {
      "text/plain": [
       "array([[[5.79751021],\n",
       "        [6.66931801],\n",
       "        [7.11029597]],\n",
       "\n",
       "       [[6.41766599],\n",
       "        [7.28947378],\n",
       "        [7.73045175]],\n",
       "\n",
       "       [[6.41766599],\n",
       "        [7.28947378],\n",
       "        [7.73045175]]])"
      ]
     },
     "execution_count": 615,
     "metadata": {},
     "output_type": "execute_result"
    }
   ],
   "source": [
    "H"
   ]
  },
  {
   "cell_type": "code",
   "execution_count": 616,
   "metadata": {},
   "outputs": [],
   "source": [
    "H = np.reshape(H, (H.shape[0]*H.shape[1]))"
   ]
  },
  {
   "cell_type": "code",
   "execution_count": 617,
   "metadata": {},
   "outputs": [
    {
     "data": {
      "text/plain": [
       "array([5.79751021, 6.66931801, 7.11029597, 6.41766599, 7.28947378,\n",
       "       7.73045175, 6.41766599, 7.28947378, 7.73045175])"
      ]
     },
     "execution_count": 617,
     "metadata": {},
     "output_type": "execute_result"
    }
   ],
   "source": [
    "H"
   ]
  },
  {
   "cell_type": "code",
   "execution_count": 618,
   "metadata": {},
   "outputs": [],
   "source": [
    "D = np.array([[np.linalg.norm(ag-ab) for ab in H] for ag in AG])"
   ]
  },
  {
   "cell_type": "code",
   "execution_count": 619,
   "metadata": {},
   "outputs": [
    {
     "data": {
      "text/plain": [
       "array([[0.03768694, 0.90949473, 1.3504727 , 0.65784271, 1.52965051,\n",
       "        1.97062848, 0.65784271, 1.52965051, 1.97062848],\n",
       "       [1.70592865, 0.83412085, 0.39314289, 1.08577287, 0.21396508,\n",
       "        0.22701289, 1.08577287, 0.21396508, 0.22701289],\n",
       "       [2.58788458, 1.71607679, 1.27509882, 1.96772881, 1.09592102,\n",
       "        0.65494305, 1.96772881, 1.09592102, 0.65494305]])"
      ]
     },
     "execution_count": 619,
     "metadata": {},
     "output_type": "execute_result"
    }
   ],
   "source": [
    "D"
   ]
  },
  {
   "cell_type": "code",
   "execution_count": 624,
   "metadata": {},
   "outputs": [],
   "source": [
    "HD = [D[i][d[0]] for (i,d) in enumerate(D.argsort())]"
   ]
  },
  {
   "cell_type": "code",
   "execution_count": 625,
   "metadata": {},
   "outputs": [
    {
     "data": {
      "text/plain": [
       "[0.03768694020597074, 0.2139650793857779, 0.6549430475750837]"
      ]
     },
     "execution_count": 625,
     "metadata": {},
     "output_type": "execute_result"
    }
   ],
   "source": [
    "HD"
   ]
  },
  {
   "cell_type": "code",
   "execution_count": 626,
   "metadata": {},
   "outputs": [],
   "source": [
    "H = [H[d[0]] for d in D.argsort()]"
   ]
  },
  {
   "cell_type": "code",
   "execution_count": 628,
   "metadata": {},
   "outputs": [
    {
     "data": {
      "text/plain": [
       "[5.797510211277306, 7.289473779226569, 7.7304517474158745]"
      ]
     },
     "execution_count": 628,
     "metadata": {},
     "output_type": "execute_result"
    }
   ],
   "source": [
    "H"
   ]
  },
  {
   "cell_type": "code",
   "execution_count": 687,
   "metadata": {},
   "outputs": [],
   "source": [
    "Hab = [(h,hd) for h,hd in zip(H,HD)]"
   ]
  },
  {
   "cell_type": "code",
   "execution_count": 714,
   "metadata": {},
   "outputs": [
    {
     "data": {
      "text/plain": [
       "[(5.797510211277306, 0.03768694020597074),\n",
       " (7.289473779226569, 0.2139650793857779),\n",
       " (7.7304517474158745, 0.6549430475750837)]"
      ]
     },
     "execution_count": 714,
     "metadata": {},
     "output_type": "execute_result"
    }
   ],
   "source": [
    "Hab"
   ]
  },
  {
   "cell_type": "code",
   "execution_count": 715,
   "metadata": {},
   "outputs": [],
   "source": [
    "M = np.array(Hab[:int(OMEGA*len(Hab))])"
   ]
  },
  {
   "cell_type": "code",
   "execution_count": 716,
   "metadata": {},
   "outputs": [
    {
     "data": {
      "text/plain": [
       "array([[5.79751021, 0.03768694],\n",
       "       [7.28947378, 0.21396508],\n",
       "       [7.73045175, 0.65494305]])"
      ]
     },
     "execution_count": 716,
     "metadata": {},
     "output_type": "execute_result"
    }
   ],
   "source": [
    "M"
   ]
  },
  {
   "cell_type": "code",
   "execution_count": 717,
   "metadata": {},
   "outputs": [],
   "source": [
    "M=M[M[:,1] < 0.7]"
   ]
  },
  {
   "cell_type": "code",
   "execution_count": 718,
   "metadata": {},
   "outputs": [],
   "source": [
    "M = M[:,0]"
   ]
  },
  {
   "cell_type": "code",
   "execution_count": 719,
   "metadata": {},
   "outputs": [],
   "source": [
    "M = np.array([np.array([m]) for m in M])"
   ]
  },
  {
   "cell_type": "code",
   "execution_count": 720,
   "metadata": {},
   "outputs": [
    {
     "data": {
      "text/plain": [
       "array([[5.79751021],\n",
       "       [7.28947378],\n",
       "       [7.73045175]])"
      ]
     },
     "execution_count": 720,
     "metadata": {},
     "output_type": "execute_result"
    }
   ],
   "source": [
    "M"
   ]
  },
  {
   "cell_type": "code",
   "execution_count": 721,
   "metadata": {},
   "outputs": [],
   "source": [
    "# Clonal suppression. \n",
    "S = np.array([[np.linalg.norm(np.array(mx)-np.array(my)) for mx in M] for my in M])"
   ]
  },
  {
   "cell_type": "code",
   "execution_count": 722,
   "metadata": {},
   "outputs": [
    {
     "data": {
      "text/plain": [
       "array([[0.        , 1.49196357, 1.93294154],\n",
       "       [1.49196357, 0.        , 0.44097797],\n",
       "       [1.93294154, 0.44097797, 0.        ]])"
      ]
     },
     "execution_count": 722,
     "metadata": {},
     "output_type": "execute_result"
    }
   ],
   "source": [
    "S"
   ]
  },
  {
   "cell_type": "code",
   "execution_count": 723,
   "metadata": {},
   "outputs": [],
   "source": [
    "Mp = np.argwhere(S > 0.5)"
   ]
  },
  {
   "cell_type": "code",
   "execution_count": 724,
   "metadata": {},
   "outputs": [
    {
     "data": {
      "text/plain": [
       "array([[0, 1],\n",
       "       [0, 2],\n",
       "       [1, 0],\n",
       "       [2, 0]])"
      ]
     },
     "execution_count": 724,
     "metadata": {},
     "output_type": "execute_result"
    }
   ],
   "source": [
    "Mp"
   ]
  },
  {
   "cell_type": "code",
   "execution_count": 729,
   "metadata": {},
   "outputs": [
    {
     "data": {
      "text/plain": [
       "array([[5.79751021],\n",
       "       [7.28947378],\n",
       "       [7.73045175]])"
      ]
     },
     "execution_count": 729,
     "metadata": {},
     "output_type": "execute_result"
    }
   ],
   "source": [
    "M[list(set(Mp.flatten()))]"
   ]
  },
  {
   "cell_type": "code",
   "execution_count": 733,
   "metadata": {},
   "outputs": [
    {
     "data": {
      "text/plain": [
       "array([5.83519715, 2.44375792, 2.07281713, 4.86374463, 3.57766174,\n",
       "       7.0755087 , 3.67799244, 1.51243265, 5.29648763, 5.79751021,\n",
       "       7.28947378, 7.73045175])"
      ]
     },
     "execution_count": 733,
     "metadata": {},
     "output_type": "execute_result"
    }
   ],
   "source": [
    "np.append(AB,M[list(set(Mp.flatten()))])"
   ]
  },
  {
   "cell_type": "code",
   "execution_count": null,
   "metadata": {},
   "outputs": [],
   "source": []
  }
 ],
 "metadata": {
  "kernelspec": {
   "display_name": "Python 3",
   "language": "python",
   "name": "python3"
  },
  "language_info": {
   "codemirror_mode": {
    "name": "ipython",
    "version": 3
   },
   "file_extension": ".py",
   "mimetype": "text/x-python",
   "name": "python",
   "nbconvert_exporter": "python",
   "pygments_lexer": "ipython3",
   "version": "3.7.3"
  }
 },
 "nbformat": 4,
 "nbformat_minor": 2
}
