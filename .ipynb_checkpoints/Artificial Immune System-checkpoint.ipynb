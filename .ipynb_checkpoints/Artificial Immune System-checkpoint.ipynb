{
 "cells": [
  {
   "cell_type": "code",
   "execution_count": 5,
   "metadata": {},
   "outputs": [],
   "source": [
    "import numpy as np"
   ]
  },
  {
   "cell_type": "code",
   "execution_count": 194,
   "metadata": {},
   "outputs": [],
   "source": [
    "def fit(a, hn, hp, cs):\n",
    "    \n",
    "    D = np.array([np.linalg.norm(c-X) for c in C])\n",
    "    \n",
    "    ixs = D.argsort()[-hn:][::1]\n",
    "    HAF_Cells_D = D[ixs]\n",
    "    HAF_Cells_N = (HAF_Cells_D / sum(HAF_Cells_D)) * 100\n",
    "    HAF_Cells_N = HAF_Cells_N.astype(int) \n",
    "    HAF_Cells = C[ixs]\n",
    "    HAF_Cells = np.repeat(HAF_Cells, HAF_Cells_N, axis=0)\n",
    "    HAF_Cells = np.array([cell-a*(cell-X) for cell in HAF_Cells])\n",
    "    HAF_Cells = np.reshape(HAF_Cells, (HAF_Cells.shape[0]*HAF_Cells.shape[1], HAF_Cells.shape[2]))\n",
    "    \n",
    "    D = np.array([np.linalg.norm(cell-X) for cell in HAF_Cells])\n",
    "    ixs = D.argsort()[int((1-hp)*D.shape[0]):][::1]\n",
    "    D = D[ixs]\n",
    "    M = HAF_Cells[ixs]\n",
    "    \n",
    "    S = np.array([np.linalg.norm(m-M) for m in M])\n",
    "    ixs = S.argsort()[-int((1-cs)*S.shape[0]):][::1]\n",
    "    M = M[ixs]\n",
    "    C = np.append(C, M, axis=0)\n",
    "    \n",
    "    S = np.array([np.linalg.norm(c-C) for c in C])\n",
    "    \n",
    "    ixs = S.argsort()[-int((1-cs)*S.shape[0]):][::1]\n",
    "    C = C[ixs]\n"
   ]
  },
  {
   "cell_type": "code",
   "execution_count": 196,
   "metadata": {},
   "outputs": [],
   "source": [
    "fit(0.1,10,0.6,0.6)"
   ]
  },
  {
   "cell_type": "code",
   "execution_count": null,
   "metadata": {},
   "outputs": [],
   "source": []
  },
  {
   "cell_type": "code",
   "execution_count": null,
   "metadata": {},
   "outputs": [],
   "source": []
  }
 ],
 "metadata": {
  "kernelspec": {
   "display_name": "Python 3",
   "language": "python",
   "name": "python3"
  },
  "language_info": {
   "codemirror_mode": {
    "name": "ipython",
    "version": 3
   },
   "file_extension": ".py",
   "mimetype": "text/x-python",
   "name": "python",
   "nbconvert_exporter": "python",
   "pygments_lexer": "ipython3",
   "version": "3.7.3"
  }
 },
 "nbformat": 4,
 "nbformat_minor": 2
}
